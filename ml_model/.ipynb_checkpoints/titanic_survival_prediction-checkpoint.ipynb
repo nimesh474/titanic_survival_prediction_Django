{
 "cells": [
  {
   "cell_type": "code",
   "execution_count": 1,
   "id": "14972c4c",
   "metadata": {
    "execution": {
     "iopub.execute_input": "2022-04-17T02:46:45.855912Z",
     "iopub.status.busy": "2022-04-17T02:46:45.855094Z",
     "iopub.status.idle": "2022-04-17T02:46:47.426909Z",
     "shell.execute_reply": "2022-04-17T02:46:47.425655Z",
     "shell.execute_reply.started": "2022-04-17T02:46:04.015476Z"
    },
    "papermill": {
     "duration": 1.663975,
     "end_time": "2022-04-17T02:46:47.427112",
     "exception": false,
     "start_time": "2022-04-17T02:46:45.763137",
     "status": "completed"
    },
    "tags": []
   },
   "outputs": [],
   "source": [
    "# dependencies libraries\n",
    "import numpy as np\n",
    "import pandas as pd\n",
    "import matplotlib.pyplot as plt\n",
    "%matplotlib inline\n",
    "import seaborn as sns\n",
    "from sklearn.model_selection import train_test_split\n",
    "from sklearn.linear_model import LogisticRegression\n",
    "from sklearn.metrics import accuracy_score"
   ]
  },
  {
   "cell_type": "markdown",
   "id": "56bfb8ec",
   "metadata": {
    "papermill": {
     "duration": 0.072725,
     "end_time": "2022-04-17T02:46:47.576431",
     "exception": false,
     "start_time": "2022-04-17T02:46:47.503706",
     "status": "completed"
    },
    "tags": []
   },
   "source": [
    "**Import train dataset**"
   ]
  },
  {
   "cell_type": "code",
   "execution_count": 2,
   "id": "3fabc0ad",
   "metadata": {
    "execution": {
     "iopub.execute_input": "2022-04-17T02:46:47.732212Z",
     "iopub.status.busy": "2022-04-17T02:46:47.729768Z",
     "iopub.status.idle": "2022-04-17T02:46:47.749980Z",
     "shell.execute_reply": "2022-04-17T02:46:47.750781Z",
     "shell.execute_reply.started": "2022-04-17T02:46:04.033540Z"
    },
    "papermill": {
     "duration": 0.099809,
     "end_time": "2022-04-17T02:46:47.751019",
     "exception": false,
     "start_time": "2022-04-17T02:46:47.651210",
     "status": "completed"
    },
    "tags": []
   },
   "outputs": [],
   "source": [
    "train_df = pd.read_csv(r'../input/titanic/train.csv')"
   ]
  },
  {
   "cell_type": "markdown",
   "id": "f7ee11a9",
   "metadata": {
    "papermill": {
     "duration": 0.074175,
     "end_time": "2022-04-17T02:46:47.902362",
     "exception": false,
     "start_time": "2022-04-17T02:46:47.828187",
     "status": "completed"
    },
    "tags": []
   },
   "source": [
    "**Data Wraggling**"
   ]
  },
  {
   "cell_type": "code",
   "execution_count": 3,
   "id": "39011d14",
   "metadata": {
    "execution": {
     "iopub.execute_input": "2022-04-17T02:46:48.062946Z",
     "iopub.status.busy": "2022-04-17T02:46:48.062228Z",
     "iopub.status.idle": "2022-04-17T02:46:48.081907Z",
     "shell.execute_reply": "2022-04-17T02:46:48.082441Z",
     "shell.execute_reply.started": "2022-04-17T02:46:04.050173Z"
    },
    "papermill": {
     "duration": 0.105906,
     "end_time": "2022-04-17T02:46:48.082635",
     "exception": false,
     "start_time": "2022-04-17T02:46:47.976729",
     "status": "completed"
    },
    "tags": []
   },
   "outputs": [
    {
     "data": {
      "text/html": [
       "<div>\n",
       "<style scoped>\n",
       "    .dataframe tbody tr th:only-of-type {\n",
       "        vertical-align: middle;\n",
       "    }\n",
       "\n",
       "    .dataframe tbody tr th {\n",
       "        vertical-align: top;\n",
       "    }\n",
       "\n",
       "    .dataframe thead th {\n",
       "        text-align: right;\n",
       "    }\n",
       "</style>\n",
       "<table border=\"1\" class=\"dataframe\">\n",
       "  <thead>\n",
       "    <tr style=\"text-align: right;\">\n",
       "      <th></th>\n",
       "      <th>PassengerId</th>\n",
       "      <th>Survived</th>\n",
       "      <th>Pclass</th>\n",
       "      <th>Name</th>\n",
       "      <th>Sex</th>\n",
       "      <th>Age</th>\n",
       "      <th>SibSp</th>\n",
       "      <th>Parch</th>\n",
       "      <th>Ticket</th>\n",
       "      <th>Fare</th>\n",
       "      <th>Cabin</th>\n",
       "      <th>Embarked</th>\n",
       "    </tr>\n",
       "  </thead>\n",
       "  <tbody>\n",
       "    <tr>\n",
       "      <th>0</th>\n",
       "      <td>1</td>\n",
       "      <td>0</td>\n",
       "      <td>3</td>\n",
       "      <td>Braund, Mr. Owen Harris</td>\n",
       "      <td>male</td>\n",
       "      <td>22.0</td>\n",
       "      <td>1</td>\n",
       "      <td>0</td>\n",
       "      <td>A/5 21171</td>\n",
       "      <td>7.2500</td>\n",
       "      <td>NaN</td>\n",
       "      <td>S</td>\n",
       "    </tr>\n",
       "    <tr>\n",
       "      <th>1</th>\n",
       "      <td>2</td>\n",
       "      <td>1</td>\n",
       "      <td>1</td>\n",
       "      <td>Cumings, Mrs. John Bradley (Florence Briggs Th...</td>\n",
       "      <td>female</td>\n",
       "      <td>38.0</td>\n",
       "      <td>1</td>\n",
       "      <td>0</td>\n",
       "      <td>PC 17599</td>\n",
       "      <td>71.2833</td>\n",
       "      <td>C85</td>\n",
       "      <td>C</td>\n",
       "    </tr>\n",
       "    <tr>\n",
       "      <th>2</th>\n",
       "      <td>3</td>\n",
       "      <td>1</td>\n",
       "      <td>3</td>\n",
       "      <td>Heikkinen, Miss. Laina</td>\n",
       "      <td>female</td>\n",
       "      <td>26.0</td>\n",
       "      <td>0</td>\n",
       "      <td>0</td>\n",
       "      <td>STON/O2. 3101282</td>\n",
       "      <td>7.9250</td>\n",
       "      <td>NaN</td>\n",
       "      <td>S</td>\n",
       "    </tr>\n",
       "    <tr>\n",
       "      <th>3</th>\n",
       "      <td>4</td>\n",
       "      <td>1</td>\n",
       "      <td>1</td>\n",
       "      <td>Futrelle, Mrs. Jacques Heath (Lily May Peel)</td>\n",
       "      <td>female</td>\n",
       "      <td>35.0</td>\n",
       "      <td>1</td>\n",
       "      <td>0</td>\n",
       "      <td>113803</td>\n",
       "      <td>53.1000</td>\n",
       "      <td>C123</td>\n",
       "      <td>S</td>\n",
       "    </tr>\n",
       "    <tr>\n",
       "      <th>4</th>\n",
       "      <td>5</td>\n",
       "      <td>0</td>\n",
       "      <td>3</td>\n",
       "      <td>Allen, Mr. William Henry</td>\n",
       "      <td>male</td>\n",
       "      <td>35.0</td>\n",
       "      <td>0</td>\n",
       "      <td>0</td>\n",
       "      <td>373450</td>\n",
       "      <td>8.0500</td>\n",
       "      <td>NaN</td>\n",
       "      <td>S</td>\n",
       "    </tr>\n",
       "  </tbody>\n",
       "</table>\n",
       "</div>"
      ],
      "text/plain": [
       "   PassengerId  Survived  Pclass  \\\n",
       "0            1         0       3   \n",
       "1            2         1       1   \n",
       "2            3         1       3   \n",
       "3            4         1       1   \n",
       "4            5         0       3   \n",
       "\n",
       "                                                Name     Sex   Age  SibSp  \\\n",
       "0                            Braund, Mr. Owen Harris    male  22.0      1   \n",
       "1  Cumings, Mrs. John Bradley (Florence Briggs Th...  female  38.0      1   \n",
       "2                             Heikkinen, Miss. Laina  female  26.0      0   \n",
       "3       Futrelle, Mrs. Jacques Heath (Lily May Peel)  female  35.0      1   \n",
       "4                           Allen, Mr. William Henry    male  35.0      0   \n",
       "\n",
       "   Parch            Ticket     Fare Cabin Embarked  \n",
       "0      0         A/5 21171   7.2500   NaN        S  \n",
       "1      0          PC 17599  71.2833   C85        C  \n",
       "2      0  STON/O2. 3101282   7.9250   NaN        S  \n",
       "3      0            113803  53.1000  C123        S  \n",
       "4      0            373450   8.0500   NaN        S  "
      ]
     },
     "execution_count": 3,
     "metadata": {},
     "output_type": "execute_result"
    }
   ],
   "source": [
    "train_df.head()"
   ]
  },
  {
   "cell_type": "code",
   "execution_count": 4,
   "id": "9f8a9b21",
   "metadata": {
    "execution": {
     "iopub.execute_input": "2022-04-17T02:46:48.234718Z",
     "iopub.status.busy": "2022-04-17T02:46:48.234067Z",
     "iopub.status.idle": "2022-04-17T02:46:48.250043Z",
     "shell.execute_reply": "2022-04-17T02:46:48.250662Z",
     "shell.execute_reply.started": "2022-04-17T02:46:04.081568Z"
    },
    "papermill": {
     "duration": 0.093198,
     "end_time": "2022-04-17T02:46:48.250834",
     "exception": false,
     "start_time": "2022-04-17T02:46:48.157636",
     "status": "completed"
    },
    "tags": []
   },
   "outputs": [
    {
     "data": {
      "text/html": [
       "<div>\n",
       "<style scoped>\n",
       "    .dataframe tbody tr th:only-of-type {\n",
       "        vertical-align: middle;\n",
       "    }\n",
       "\n",
       "    .dataframe tbody tr th {\n",
       "        vertical-align: top;\n",
       "    }\n",
       "\n",
       "    .dataframe thead th {\n",
       "        text-align: right;\n",
       "    }\n",
       "</style>\n",
       "<table border=\"1\" class=\"dataframe\">\n",
       "  <thead>\n",
       "    <tr style=\"text-align: right;\">\n",
       "      <th></th>\n",
       "      <th>PassengerId</th>\n",
       "      <th>Survived</th>\n",
       "      <th>Pclass</th>\n",
       "      <th>Name</th>\n",
       "      <th>Sex</th>\n",
       "      <th>Age</th>\n",
       "      <th>SibSp</th>\n",
       "      <th>Parch</th>\n",
       "      <th>Ticket</th>\n",
       "      <th>Fare</th>\n",
       "      <th>Cabin</th>\n",
       "      <th>Embarked</th>\n",
       "    </tr>\n",
       "  </thead>\n",
       "  <tbody>\n",
       "    <tr>\n",
       "      <th>886</th>\n",
       "      <td>887</td>\n",
       "      <td>0</td>\n",
       "      <td>2</td>\n",
       "      <td>Montvila, Rev. Juozas</td>\n",
       "      <td>male</td>\n",
       "      <td>27.0</td>\n",
       "      <td>0</td>\n",
       "      <td>0</td>\n",
       "      <td>211536</td>\n",
       "      <td>13.00</td>\n",
       "      <td>NaN</td>\n",
       "      <td>S</td>\n",
       "    </tr>\n",
       "    <tr>\n",
       "      <th>887</th>\n",
       "      <td>888</td>\n",
       "      <td>1</td>\n",
       "      <td>1</td>\n",
       "      <td>Graham, Miss. Margaret Edith</td>\n",
       "      <td>female</td>\n",
       "      <td>19.0</td>\n",
       "      <td>0</td>\n",
       "      <td>0</td>\n",
       "      <td>112053</td>\n",
       "      <td>30.00</td>\n",
       "      <td>B42</td>\n",
       "      <td>S</td>\n",
       "    </tr>\n",
       "    <tr>\n",
       "      <th>888</th>\n",
       "      <td>889</td>\n",
       "      <td>0</td>\n",
       "      <td>3</td>\n",
       "      <td>Johnston, Miss. Catherine Helen \"Carrie\"</td>\n",
       "      <td>female</td>\n",
       "      <td>NaN</td>\n",
       "      <td>1</td>\n",
       "      <td>2</td>\n",
       "      <td>W./C. 6607</td>\n",
       "      <td>23.45</td>\n",
       "      <td>NaN</td>\n",
       "      <td>S</td>\n",
       "    </tr>\n",
       "    <tr>\n",
       "      <th>889</th>\n",
       "      <td>890</td>\n",
       "      <td>1</td>\n",
       "      <td>1</td>\n",
       "      <td>Behr, Mr. Karl Howell</td>\n",
       "      <td>male</td>\n",
       "      <td>26.0</td>\n",
       "      <td>0</td>\n",
       "      <td>0</td>\n",
       "      <td>111369</td>\n",
       "      <td>30.00</td>\n",
       "      <td>C148</td>\n",
       "      <td>C</td>\n",
       "    </tr>\n",
       "    <tr>\n",
       "      <th>890</th>\n",
       "      <td>891</td>\n",
       "      <td>0</td>\n",
       "      <td>3</td>\n",
       "      <td>Dooley, Mr. Patrick</td>\n",
       "      <td>male</td>\n",
       "      <td>32.0</td>\n",
       "      <td>0</td>\n",
       "      <td>0</td>\n",
       "      <td>370376</td>\n",
       "      <td>7.75</td>\n",
       "      <td>NaN</td>\n",
       "      <td>Q</td>\n",
       "    </tr>\n",
       "  </tbody>\n",
       "</table>\n",
       "</div>"
      ],
      "text/plain": [
       "     PassengerId  Survived  Pclass                                      Name  \\\n",
       "886          887         0       2                     Montvila, Rev. Juozas   \n",
       "887          888         1       1              Graham, Miss. Margaret Edith   \n",
       "888          889         0       3  Johnston, Miss. Catherine Helen \"Carrie\"   \n",
       "889          890         1       1                     Behr, Mr. Karl Howell   \n",
       "890          891         0       3                       Dooley, Mr. Patrick   \n",
       "\n",
       "        Sex   Age  SibSp  Parch      Ticket   Fare Cabin Embarked  \n",
       "886    male  27.0      0      0      211536  13.00   NaN        S  \n",
       "887  female  19.0      0      0      112053  30.00   B42        S  \n",
       "888  female   NaN      1      2  W./C. 6607  23.45   NaN        S  \n",
       "889    male  26.0      0      0      111369  30.00  C148        C  \n",
       "890    male  32.0      0      0      370376   7.75   NaN        Q  "
      ]
     },
     "execution_count": 4,
     "metadata": {},
     "output_type": "execute_result"
    }
   ],
   "source": [
    "train_df.tail()"
   ]
  },
  {
   "cell_type": "code",
   "execution_count": 5,
   "id": "114b51a9",
   "metadata": {
    "execution": {
     "iopub.execute_input": "2022-04-17T02:46:48.402929Z",
     "iopub.status.busy": "2022-04-17T02:46:48.402251Z",
     "iopub.status.idle": "2022-04-17T02:46:48.407597Z",
     "shell.execute_reply": "2022-04-17T02:46:48.408199Z",
     "shell.execute_reply.started": "2022-04-17T02:46:04.099598Z"
    },
    "papermill": {
     "duration": 0.083659,
     "end_time": "2022-04-17T02:46:48.408380",
     "exception": false,
     "start_time": "2022-04-17T02:46:48.324721",
     "status": "completed"
    },
    "tags": []
   },
   "outputs": [
    {
     "data": {
      "text/plain": [
       "10692"
      ]
     },
     "execution_count": 5,
     "metadata": {},
     "output_type": "execute_result"
    }
   ],
   "source": [
    "train_df.size"
   ]
  },
  {
   "cell_type": "code",
   "execution_count": 6,
   "id": "4050a864",
   "metadata": {
    "execution": {
     "iopub.execute_input": "2022-04-17T02:46:48.564733Z",
     "iopub.status.busy": "2022-04-17T02:46:48.564045Z",
     "iopub.status.idle": "2022-04-17T02:46:48.566574Z",
     "shell.execute_reply": "2022-04-17T02:46:48.567062Z",
     "shell.execute_reply.started": "2022-04-17T02:46:04.114046Z"
    },
    "papermill": {
     "duration": 0.083713,
     "end_time": "2022-04-17T02:46:48.567248",
     "exception": false,
     "start_time": "2022-04-17T02:46:48.483535",
     "status": "completed"
    },
    "tags": []
   },
   "outputs": [
    {
     "data": {
      "text/plain": [
       "(891, 12)"
      ]
     },
     "execution_count": 6,
     "metadata": {},
     "output_type": "execute_result"
    }
   ],
   "source": [
    "train_df.shape"
   ]
  },
  {
   "cell_type": "code",
   "execution_count": 7,
   "id": "cdc32d4a",
   "metadata": {
    "execution": {
     "iopub.execute_input": "2022-04-17T02:46:48.724929Z",
     "iopub.status.busy": "2022-04-17T02:46:48.724270Z",
     "iopub.status.idle": "2022-04-17T02:46:48.726816Z",
     "shell.execute_reply": "2022-04-17T02:46:48.727327Z",
     "shell.execute_reply.started": "2022-04-17T02:46:04.128674Z"
    },
    "papermill": {
     "duration": 0.085025,
     "end_time": "2022-04-17T02:46:48.727504",
     "exception": false,
     "start_time": "2022-04-17T02:46:48.642479",
     "status": "completed"
    },
    "tags": []
   },
   "outputs": [
    {
     "data": {
      "text/plain": [
       "Index(['PassengerId', 'Survived', 'Pclass', 'Name', 'Sex', 'Age', 'SibSp',\n",
       "       'Parch', 'Ticket', 'Fare', 'Cabin', 'Embarked'],\n",
       "      dtype='object')"
      ]
     },
     "execution_count": 7,
     "metadata": {},
     "output_type": "execute_result"
    }
   ],
   "source": [
    "train_df.columns"
   ]
  },
  {
   "cell_type": "code",
   "execution_count": 8,
   "id": "1641eb26",
   "metadata": {
    "execution": {
     "iopub.execute_input": "2022-04-17T02:46:48.883653Z",
     "iopub.status.busy": "2022-04-17T02:46:48.882874Z",
     "iopub.status.idle": "2022-04-17T02:46:48.911222Z",
     "shell.execute_reply": "2022-04-17T02:46:48.911820Z",
     "shell.execute_reply.started": "2022-04-17T02:46:04.144353Z"
    },
    "papermill": {
     "duration": 0.108654,
     "end_time": "2022-04-17T02:46:48.912031",
     "exception": false,
     "start_time": "2022-04-17T02:46:48.803377",
     "status": "completed"
    },
    "tags": []
   },
   "outputs": [
    {
     "name": "stdout",
     "output_type": "stream",
     "text": [
      "<class 'pandas.core.frame.DataFrame'>\n",
      "RangeIndex: 891 entries, 0 to 890\n",
      "Data columns (total 12 columns):\n",
      " #   Column       Non-Null Count  Dtype  \n",
      "---  ------       --------------  -----  \n",
      " 0   PassengerId  891 non-null    int64  \n",
      " 1   Survived     891 non-null    int64  \n",
      " 2   Pclass       891 non-null    int64  \n",
      " 3   Name         891 non-null    object \n",
      " 4   Sex          891 non-null    object \n",
      " 5   Age          714 non-null    float64\n",
      " 6   SibSp        891 non-null    int64  \n",
      " 7   Parch        891 non-null    int64  \n",
      " 8   Ticket       891 non-null    object \n",
      " 9   Fare         891 non-null    float64\n",
      " 10  Cabin        204 non-null    object \n",
      " 11  Embarked     889 non-null    object \n",
      "dtypes: float64(2), int64(5), object(5)\n",
      "memory usage: 83.7+ KB\n"
     ]
    }
   ],
   "source": [
    "train_df.info()"
   ]
  },
  {
   "cell_type": "code",
   "execution_count": 9,
   "id": "0c6b93c0",
   "metadata": {
    "execution": {
     "iopub.execute_input": "2022-04-17T02:46:49.077682Z",
     "iopub.status.busy": "2022-04-17T02:46:49.076932Z",
     "iopub.status.idle": "2022-04-17T02:46:49.078352Z",
     "shell.execute_reply": "2022-04-17T02:46:49.078851Z",
     "shell.execute_reply.started": "2022-04-17T02:46:04.166698Z"
    },
    "papermill": {
     "duration": 0.087963,
     "end_time": "2022-04-17T02:46:49.079047",
     "exception": false,
     "start_time": "2022-04-17T02:46:48.991084",
     "status": "completed"
    },
    "tags": []
   },
   "outputs": [],
   "source": [
    "train_df.columns  = train_df.columns.str.lower()"
   ]
  },
  {
   "cell_type": "markdown",
   "id": "18c4aac7",
   "metadata": {
    "papermill": {
     "duration": 0.077546,
     "end_time": "2022-04-17T02:46:49.233415",
     "exception": false,
     "start_time": "2022-04-17T02:46:49.155869",
     "status": "completed"
    },
    "tags": []
   },
   "source": [
    "**Data Cleaning**"
   ]
  },
  {
   "cell_type": "code",
   "execution_count": 10,
   "id": "4f03a2db",
   "metadata": {
    "execution": {
     "iopub.execute_input": "2022-04-17T02:46:49.391323Z",
     "iopub.status.busy": "2022-04-17T02:46:49.390606Z",
     "iopub.status.idle": "2022-04-17T02:46:49.402655Z",
     "shell.execute_reply": "2022-04-17T02:46:49.403285Z",
     "shell.execute_reply.started": "2022-04-17T02:46:04.174959Z"
    },
    "papermill": {
     "duration": 0.0935,
     "end_time": "2022-04-17T02:46:49.403518",
     "exception": false,
     "start_time": "2022-04-17T02:46:49.310018",
     "status": "completed"
    },
    "tags": []
   },
   "outputs": [
    {
     "data": {
      "text/plain": [
       "0"
      ]
     },
     "execution_count": 10,
     "metadata": {},
     "output_type": "execute_result"
    }
   ],
   "source": [
    "train_df.duplicated().sum()"
   ]
  },
  {
   "cell_type": "code",
   "execution_count": 11,
   "id": "8f41a591",
   "metadata": {
    "execution": {
     "iopub.execute_input": "2022-04-17T02:46:49.563309Z",
     "iopub.status.busy": "2022-04-17T02:46:49.562587Z",
     "iopub.status.idle": "2022-04-17T02:46:49.572066Z",
     "shell.execute_reply": "2022-04-17T02:46:49.572653Z",
     "shell.execute_reply.started": "2022-04-17T02:46:04.264303Z"
    },
    "papermill": {
     "duration": 0.091094,
     "end_time": "2022-04-17T02:46:49.572863",
     "exception": false,
     "start_time": "2022-04-17T02:46:49.481769",
     "status": "completed"
    },
    "tags": []
   },
   "outputs": [
    {
     "data": {
      "text/plain": [
       "survived    2\n",
       "pclass      3\n",
       "embarked    3\n",
       "dtype: int64"
      ]
     },
     "execution_count": 11,
     "metadata": {},
     "output_type": "execute_result"
    }
   ],
   "source": [
    "# this way also helps to find the categorical data in columns\n",
    "train_df.loc[:, [\"survived\", \"pclass\", \"embarked\"]].nunique()"
   ]
  },
  {
   "cell_type": "code",
   "execution_count": 12,
   "id": "ae3c3bcb",
   "metadata": {
    "execution": {
     "iopub.execute_input": "2022-04-17T02:46:49.736379Z",
     "iopub.status.busy": "2022-04-17T02:46:49.735629Z",
     "iopub.status.idle": "2022-04-17T02:46:49.741291Z",
     "shell.execute_reply": "2022-04-17T02:46:49.741807Z",
     "shell.execute_reply.started": "2022-04-17T02:46:04.277310Z"
    },
    "papermill": {
     "duration": 0.08922,
     "end_time": "2022-04-17T02:46:49.742010",
     "exception": false,
     "start_time": "2022-04-17T02:46:49.652790",
     "status": "completed"
    },
    "tags": []
   },
   "outputs": [
    {
     "data": {
      "text/plain": [
       "passengerid      0\n",
       "survived         0\n",
       "pclass           0\n",
       "name             0\n",
       "sex              0\n",
       "age            177\n",
       "sibsp            0\n",
       "parch            0\n",
       "ticket           0\n",
       "fare             0\n",
       "cabin          687\n",
       "embarked         2\n",
       "dtype: int64"
      ]
     },
     "execution_count": 12,
     "metadata": {},
     "output_type": "execute_result"
    }
   ],
   "source": [
    "# missing values\n",
    "train_df.isnull().sum()"
   ]
  },
  {
   "cell_type": "code",
   "execution_count": 13,
   "id": "1fbb4f21",
   "metadata": {
    "execution": {
     "iopub.execute_input": "2022-04-17T02:46:49.902614Z",
     "iopub.status.busy": "2022-04-17T02:46:49.901840Z",
     "iopub.status.idle": "2022-04-17T02:46:49.908668Z",
     "shell.execute_reply": "2022-04-17T02:46:49.909265Z",
     "shell.execute_reply.started": "2022-04-17T02:46:04.293747Z"
    },
    "papermill": {
     "duration": 0.08903,
     "end_time": "2022-04-17T02:46:49.909566",
     "exception": false,
     "start_time": "2022-04-17T02:46:49.820536",
     "status": "completed"
    },
    "tags": []
   },
   "outputs": [],
   "source": [
    "# train_df has 68% data of the total. \n",
    "# age column has 13.51% null data compared to total and 19.865% null data compared to train_df.\n",
    "# cabin column has 52.44% null data compared to total and 77.10% null data compared to train_df.\n",
    "def nullPercent(data_obj, dropping_column_list):\n",
    "    for x in range(len(data_obj.columns)):\n",
    "        total_null = data_obj.iloc[:,x].isnull().sum()\n",
    "        null_percent = total_null /  data_obj.shape[0] *100\n",
    "        if null_percent >= 20:\n",
    "            dropping_column_list.append(data_obj.iloc[:, x])\n",
    "            print(\"Dropped Column {column} has {percent:.2f}% null percent.\".format(column=data_obj.columns[x], percent=null_percent))\n",
    "    transform_column = pd.DataFrame(data=dropping_column_list).T\n",
    "    df = data_obj.drop(columns= transform_column)        \n",
    "    return df"
   ]
  },
  {
   "cell_type": "code",
   "execution_count": 14,
   "id": "2b0f60f6",
   "metadata": {
    "execution": {
     "iopub.execute_input": "2022-04-17T02:46:50.073040Z",
     "iopub.status.busy": "2022-04-17T02:46:50.072376Z",
     "iopub.status.idle": "2022-04-17T02:46:50.130405Z",
     "shell.execute_reply": "2022-04-17T02:46:50.129810Z",
     "shell.execute_reply.started": "2022-04-17T02:46:04.305060Z"
    },
    "papermill": {
     "duration": 0.140744,
     "end_time": "2022-04-17T02:46:50.130589",
     "exception": false,
     "start_time": "2022-04-17T02:46:49.989845",
     "status": "completed"
    },
    "tags": []
   },
   "outputs": [
    {
     "name": "stdout",
     "output_type": "stream",
     "text": [
      "Dropped Column cabin has 77.10% null percent.\n"
     ]
    },
    {
     "data": {
      "text/html": [
       "<div>\n",
       "<style scoped>\n",
       "    .dataframe tbody tr th:only-of-type {\n",
       "        vertical-align: middle;\n",
       "    }\n",
       "\n",
       "    .dataframe tbody tr th {\n",
       "        vertical-align: top;\n",
       "    }\n",
       "\n",
       "    .dataframe thead th {\n",
       "        text-align: right;\n",
       "    }\n",
       "</style>\n",
       "<table border=\"1\" class=\"dataframe\">\n",
       "  <thead>\n",
       "    <tr style=\"text-align: right;\">\n",
       "      <th></th>\n",
       "      <th>passengerid</th>\n",
       "      <th>survived</th>\n",
       "      <th>pclass</th>\n",
       "      <th>name</th>\n",
       "      <th>sex</th>\n",
       "      <th>age</th>\n",
       "      <th>sibsp</th>\n",
       "      <th>parch</th>\n",
       "      <th>ticket</th>\n",
       "      <th>fare</th>\n",
       "      <th>embarked</th>\n",
       "    </tr>\n",
       "  </thead>\n",
       "  <tbody>\n",
       "    <tr>\n",
       "      <th>0</th>\n",
       "      <td>1</td>\n",
       "      <td>0</td>\n",
       "      <td>3</td>\n",
       "      <td>Braund, Mr. Owen Harris</td>\n",
       "      <td>male</td>\n",
       "      <td>22.0</td>\n",
       "      <td>1</td>\n",
       "      <td>0</td>\n",
       "      <td>A/5 21171</td>\n",
       "      <td>7.25</td>\n",
       "      <td>S</td>\n",
       "    </tr>\n",
       "  </tbody>\n",
       "</table>\n",
       "</div>"
      ],
      "text/plain": [
       "   passengerid  survived  pclass                     name   sex   age  sibsp  \\\n",
       "0            1         0       3  Braund, Mr. Owen Harris  male  22.0      1   \n",
       "\n",
       "   parch     ticket  fare embarked  \n",
       "0      0  A/5 21171  7.25        S  "
      ]
     },
     "execution_count": 14,
     "metadata": {},
     "output_type": "execute_result"
    }
   ],
   "source": [
    "# new dataframe has created as \"df\"\n",
    "dropping_column_list = []\n",
    "df = nullPercent(train_df, dropping_column_list)\n",
    "df.head(1)"
   ]
  },
  {
   "cell_type": "code",
   "execution_count": 15,
   "id": "a3bb2f7c",
   "metadata": {
    "execution": {
     "iopub.execute_input": "2022-04-17T02:46:50.299337Z",
     "iopub.status.busy": "2022-04-17T02:46:50.298309Z",
     "iopub.status.idle": "2022-04-17T02:46:50.302695Z",
     "shell.execute_reply": "2022-04-17T02:46:50.302049Z",
     "shell.execute_reply.started": "2022-04-17T02:46:04.372191Z"
    },
    "papermill": {
     "duration": 0.090044,
     "end_time": "2022-04-17T02:46:50.302860",
     "exception": false,
     "start_time": "2022-04-17T02:46:50.212816",
     "status": "completed"
    },
    "tags": []
   },
   "outputs": [
    {
     "data": {
      "text/plain": [
       "(891, 11)"
      ]
     },
     "execution_count": 15,
     "metadata": {},
     "output_type": "execute_result"
    }
   ],
   "source": [
    "df.shape"
   ]
  },
  {
   "cell_type": "code",
   "execution_count": 16,
   "id": "fabf6a27",
   "metadata": {
    "execution": {
     "iopub.execute_input": "2022-04-17T02:46:50.467997Z",
     "iopub.status.busy": "2022-04-17T02:46:50.467259Z",
     "iopub.status.idle": "2022-04-17T02:46:50.471970Z",
     "shell.execute_reply": "2022-04-17T02:46:50.472501Z",
     "shell.execute_reply.started": "2022-04-17T02:46:04.380348Z"
    },
    "papermill": {
     "duration": 0.08951,
     "end_time": "2022-04-17T02:46:50.472713",
     "exception": false,
     "start_time": "2022-04-17T02:46:50.383203",
     "status": "completed"
    },
    "tags": []
   },
   "outputs": [
    {
     "data": {
      "text/plain": [
       "Index(['passengerid', 'survived', 'pclass', 'name', 'sex', 'age', 'sibsp',\n",
       "       'parch', 'ticket', 'fare', 'embarked'],\n",
       "      dtype='object')"
      ]
     },
     "execution_count": 16,
     "metadata": {},
     "output_type": "execute_result"
    }
   ],
   "source": [
    "df.columns"
   ]
  },
  {
   "cell_type": "code",
   "execution_count": 17,
   "id": "00d28a6d",
   "metadata": {
    "execution": {
     "iopub.execute_input": "2022-04-17T02:46:50.637586Z",
     "iopub.status.busy": "2022-04-17T02:46:50.634505Z",
     "iopub.status.idle": "2022-04-17T02:46:50.640099Z",
     "shell.execute_reply": "2022-04-17T02:46:50.640727Z",
     "shell.execute_reply.started": "2022-04-17T02:46:04.392268Z"
    },
    "papermill": {
     "duration": 0.088895,
     "end_time": "2022-04-17T02:46:50.640944",
     "exception": false,
     "start_time": "2022-04-17T02:46:50.552049",
     "status": "completed"
    },
    "tags": []
   },
   "outputs": [],
   "source": [
    "df  = df.drop(columns=[\"passengerid\", \"name\", \"sibsp\", \"parch\", \"ticket\", \"fare\"])"
   ]
  },
  {
   "cell_type": "code",
   "execution_count": 18,
   "id": "5da03dd0",
   "metadata": {
    "execution": {
     "iopub.execute_input": "2022-04-17T02:46:50.823682Z",
     "iopub.status.busy": "2022-04-17T02:46:50.822837Z",
     "iopub.status.idle": "2022-04-17T02:46:50.830197Z",
     "shell.execute_reply": "2022-04-17T02:46:50.829064Z",
     "shell.execute_reply.started": "2022-04-17T02:46:04.405208Z"
    },
    "papermill": {
     "duration": 0.108754,
     "end_time": "2022-04-17T02:46:50.830485",
     "exception": false,
     "start_time": "2022-04-17T02:46:50.721731",
     "status": "completed"
    },
    "tags": []
   },
   "outputs": [
    {
     "name": "stdout",
     "output_type": "stream",
     "text": [
      "(891, 5) \n",
      " Index(['survived', 'pclass', 'sex', 'age', 'embarked'], dtype='object')\n"
     ]
    }
   ],
   "source": [
    "print(df.shape,'\\n', df.columns)"
   ]
  },
  {
   "cell_type": "code",
   "execution_count": 19,
   "id": "04452d01",
   "metadata": {
    "execution": {
     "iopub.execute_input": "2022-04-17T02:46:51.008945Z",
     "iopub.status.busy": "2022-04-17T02:46:51.007864Z",
     "iopub.status.idle": "2022-04-17T02:46:51.011642Z",
     "shell.execute_reply": "2022-04-17T02:46:51.012275Z",
     "shell.execute_reply.started": "2022-04-17T02:46:04.416703Z"
    },
    "papermill": {
     "duration": 0.09498,
     "end_time": "2022-04-17T02:46:51.012508",
     "exception": false,
     "start_time": "2022-04-17T02:46:50.917528",
     "status": "completed"
    },
    "tags": []
   },
   "outputs": [],
   "source": [
    "# fill age data with mean value of the column\n",
    "df[\"age\"].fillna(value=df[\"age\"].mean(), inplace=True)"
   ]
  },
  {
   "cell_type": "markdown",
   "id": "1a5898c8",
   "metadata": {
    "papermill": {
     "duration": 0.085165,
     "end_time": "2022-04-17T02:46:51.183426",
     "exception": false,
     "start_time": "2022-04-17T02:46:51.098261",
     "status": "completed"
    },
    "tags": []
   },
   "source": [
    "****"
   ]
  },
  {
   "cell_type": "code",
   "execution_count": 20,
   "id": "5db558f5",
   "metadata": {
    "execution": {
     "iopub.execute_input": "2022-04-17T02:46:51.364077Z",
     "iopub.status.busy": "2022-04-17T02:46:51.363309Z",
     "iopub.status.idle": "2022-04-17T02:46:51.368596Z",
     "shell.execute_reply": "2022-04-17T02:46:51.367846Z",
     "shell.execute_reply.started": "2022-04-17T02:46:04.430766Z"
    },
    "papermill": {
     "duration": 0.096479,
     "end_time": "2022-04-17T02:46:51.368797",
     "exception": false,
     "start_time": "2022-04-17T02:46:51.272318",
     "status": "completed"
    },
    "tags": []
   },
   "outputs": [],
   "source": [
    "# fill categorical value with highest mode of  the column\n",
    "df[\"embarked\"].fillna(df[\"embarked\"].mode()[0], inplace=True)"
   ]
  },
  {
   "cell_type": "markdown",
   "id": "580268b3",
   "metadata": {
    "papermill": {
     "duration": 0.085122,
     "end_time": "2022-04-17T02:46:51.538990",
     "exception": false,
     "start_time": "2022-04-17T02:46:51.453868",
     "status": "completed"
    },
    "tags": []
   },
   "source": [
    "**Exploratory Data Analysis**"
   ]
  },
  {
   "cell_type": "code",
   "execution_count": 21,
   "id": "bda4fc38",
   "metadata": {
    "execution": {
     "iopub.execute_input": "2022-04-17T02:46:51.724936Z",
     "iopub.status.busy": "2022-04-17T02:46:51.724104Z",
     "iopub.status.idle": "2022-04-17T02:46:51.906799Z",
     "shell.execute_reply": "2022-04-17T02:46:51.907306Z",
     "shell.execute_reply.started": "2022-04-17T02:46:04.442106Z"
    },
    "papermill": {
     "duration": 0.275993,
     "end_time": "2022-04-17T02:46:51.907513",
     "exception": false,
     "start_time": "2022-04-17T02:46:51.631520",
     "status": "completed"
    },
    "tags": []
   },
   "outputs": [
    {
     "data": {
      "text/plain": [
       "<AxesSubplot:xlabel='survived', ylabel='count'>"
      ]
     },
     "execution_count": 21,
     "metadata": {},
     "output_type": "execute_result"
    },
    {
     "data": {
      "image/png": "[encoded data removed]",
      "text/plain": [
       "<Figure size 432x288 with 1 Axes>"
      ]
     },
     "metadata": {
      "needs_background": "light"
     },
     "output_type": "display_data"
    }
   ],
   "source": [
    "# Survival count plot 0=\"Not Survived\" 1=\"Survived\"\n",
    "sns.countplot(data=df, x=\"survived\")"
   ]
  },
  {
   "cell_type": "code",
   "execution_count": 22,
   "id": "90e05db9",
   "metadata": {
    "execution": {
     "iopub.execute_input": "2022-04-17T02:46:52.092392Z",
     "iopub.status.busy": "2022-04-17T02:46:52.091295Z",
     "iopub.status.idle": "2022-04-17T02:46:52.295157Z",
     "shell.execute_reply": "2022-04-17T02:46:52.294269Z",
     "shell.execute_reply.started": "2022-04-17T02:46:04.615351Z"
    },
    "papermill": {
     "duration": 0.299433,
     "end_time": "2022-04-17T02:46:52.295351",
     "exception": false,
     "start_time": "2022-04-17T02:46:51.995918",
     "status": "completed"
    },
    "tags": []
   },
   "outputs": [
    {
     "data": {
      "text/plain": [
       "<AxesSubplot:xlabel='pclass', ylabel='count'>"
      ]
     },
     "execution_count": 22,
     "metadata": {},
     "output_type": "execute_result"
    },
    {
     "data": {
      "image/png": "[encoded data removed]",
      "text/plain": [
       "<Figure size 432x288 with 1 Axes>"
      ]
     },
     "metadata": {
      "needs_background": "light"
     },
     "output_type": "display_data"
    }
   ],
   "source": [
    "# ticket class with-respect-to survival count\n",
    "sns.countplot(data=df, x=\"pclass\", hue=\"survived\")"
   ]
  },
  {
   "cell_type": "code",
   "execution_count": 23,
   "id": "17708ef9",
   "metadata": {
    "execution": {
     "iopub.execute_input": "2022-04-17T02:46:52.488201Z",
     "iopub.status.busy": "2022-04-17T02:46:52.487425Z",
     "iopub.status.idle": "2022-04-17T02:46:52.650320Z",
     "shell.execute_reply": "2022-04-17T02:46:52.650992Z",
     "shell.execute_reply.started": "2022-04-17T02:46:04.843517Z"
    },
    "papermill": {
     "duration": 0.264129,
     "end_time": "2022-04-17T02:46:52.651242",
     "exception": false,
     "start_time": "2022-04-17T02:46:52.387113",
     "status": "completed"
    },
    "tags": []
   },
   "outputs": [
    {
     "data": {
      "text/plain": [
       "<AxesSubplot:xlabel='sex', ylabel='count'>"
      ]
     },
     "execution_count": 23,
     "metadata": {},
     "output_type": "execute_result"
    },
    {
     "data": {
      "image/png": "[encoded data removed]",
      "text/plain": [
       "<Figure size 432x288 with 1 Axes>"
      ]
     },
     "metadata": {
      "needs_background": "light"
     },
     "output_type": "display_data"
    }
   ],
   "source": [
    "sns.countplot(data=df, x=\"sex\", hue=\"survived\")"
   ]
  },
  {
   "cell_type": "code",
   "execution_count": 24,
   "id": "338aa6b5",
   "metadata": {
    "execution": {
     "iopub.execute_input": "2022-04-17T02:46:52.840993Z",
     "iopub.status.busy": "2022-04-17T02:46:52.840218Z",
     "iopub.status.idle": "2022-04-17T02:46:53.019741Z",
     "shell.execute_reply": "2022-04-17T02:46:53.018988Z",
     "shell.execute_reply.started": "2022-04-17T02:46:05.042161Z"
    },
    "papermill": {
     "duration": 0.272164,
     "end_time": "2022-04-17T02:46:53.020054",
     "exception": false,
     "start_time": "2022-04-17T02:46:52.747890",
     "status": "completed"
    },
    "tags": []
   },
   "outputs": [
    {
     "data": {
      "text/plain": [
       "<AxesSubplot:xlabel='survived', ylabel='age'>"
      ]
     },
     "execution_count": 24,
     "metadata": {},
     "output_type": "execute_result"
    },
    {
     "data": {
      "image/png": "[encoded data removed]",
      "text/plain": [
       "<Figure size 432x288 with 1 Axes>"
      ]
     },
     "metadata": {
      "needs_background": "light"
     },
     "output_type": "display_data"
    }
   ],
   "source": [
    "# death of children < 8 and > 50 are outliers to the \"not servived\" category, most death were between\n",
    "# 8 to 50 and most srvived were described 2 to 58, above survived above it were rare.\n",
    "sns.boxplot(data=df, x=\"survived\", y=\"age\")"
   ]
  },
  {
   "cell_type": "code",
   "execution_count": 25,
   "id": "4f329417",
   "metadata": {
    "execution": {
     "iopub.execute_input": "2022-04-17T02:46:53.203530Z",
     "iopub.status.busy": "2022-04-17T02:46:53.202800Z",
     "iopub.status.idle": "2022-04-17T02:46:53.450280Z",
     "shell.execute_reply": "2022-04-17T02:46:53.449569Z",
     "shell.execute_reply.started": "2022-04-17T02:46:05.374306Z"
    },
    "papermill": {
     "duration": 0.336228,
     "end_time": "2022-04-17T02:46:53.450441",
     "exception": false,
     "start_time": "2022-04-17T02:46:53.114213",
     "status": "completed"
    },
    "tags": []
   },
   "outputs": [
    {
     "data": {
      "text/plain": [
       "<AxesSubplot:xlabel='embarked', ylabel='count'>"
      ]
     },
     "execution_count": 25,
     "metadata": {},
     "output_type": "execute_result"
    },
    {
     "data": {
      "image/png": "[encoded data removed]",
      "text/plain": [
       "<Figure size 432x288 with 1 Axes>"
      ]
     },
     "metadata": {
      "needs_background": "light"
     },
     "output_type": "display_data"
    }
   ],
   "source": [
    "sns.countplot(data=df, x=\"embarked\", hue=\"survived\")"
   ]
  },
  {
   "cell_type": "code",
   "execution_count": 26,
   "id": "8b993764",
   "metadata": {
    "execution": {
     "iopub.execute_input": "2022-04-17T02:46:53.636816Z",
     "iopub.status.busy": "2022-04-17T02:46:53.630805Z",
     "iopub.status.idle": "2022-04-17T02:46:53.640089Z",
     "shell.execute_reply": "2022-04-17T02:46:53.640708Z",
     "shell.execute_reply.started": "2022-04-17T02:46:05.608963Z"
    },
    "papermill": {
     "duration": 0.102047,
     "end_time": "2022-04-17T02:46:53.640913",
     "exception": false,
     "start_time": "2022-04-17T02:46:53.538866",
     "status": "completed"
    },
    "tags": []
   },
   "outputs": [
    {
     "data": {
      "text/plain": [
       "sex\n",
       "female    314\n",
       "male      577\n",
       "Name: survived, dtype: int64"
      ]
     },
     "execution_count": 26,
     "metadata": {},
     "output_type": "execute_result"
    }
   ],
   "source": [
    "# count of survived male and female\n",
    "df.groupby(by=\"sex\")[\"survived\"].count()"
   ]
  },
  {
   "cell_type": "code",
   "execution_count": 27,
   "id": "0c040df9",
   "metadata": {
    "execution": {
     "iopub.execute_input": "2022-04-17T02:46:53.850845Z",
     "iopub.status.busy": "2022-04-17T02:46:53.849766Z",
     "iopub.status.idle": "2022-04-17T02:46:53.854993Z",
     "shell.execute_reply": "2022-04-17T02:46:53.855896Z",
     "shell.execute_reply.started": "2022-04-17T02:46:05.620960Z"
    },
    "papermill": {
     "duration": 0.126489,
     "end_time": "2022-04-17T02:46:53.856168",
     "exception": false,
     "start_time": "2022-04-17T02:46:53.729679",
     "status": "completed"
    },
    "tags": []
   },
   "outputs": [
    {
     "data": {
      "text/plain": [
       "embarked\n",
       "C    168\n",
       "Q     77\n",
       "S    646\n",
       "Name: survived, dtype: int64"
      ]
     },
     "execution_count": 27,
     "metadata": {},
     "output_type": "execute_result"
    }
   ],
   "source": [
    "# count of survived group by emabrked\n",
    "df.groupby(by=\"embarked\")[\"survived\"].count()"
   ]
  },
  {
   "cell_type": "markdown",
   "id": "ce27d08d",
   "metadata": {
    "papermill": {
     "duration": 0.094184,
     "end_time": "2022-04-17T02:46:54.043541",
     "exception": false,
     "start_time": "2022-04-17T02:46:53.949357",
     "status": "completed"
    },
    "tags": []
   },
   "source": [
    "convert sex column data male:0, female:1 and embarked column data C:0, Q:1, S:2"
   ]
  },
  {
   "cell_type": "code",
   "execution_count": 28,
   "id": "a17e4798",
   "metadata": {
    "execution": {
     "iopub.execute_input": "2022-04-17T02:46:54.238059Z",
     "iopub.status.busy": "2022-04-17T02:46:54.237226Z",
     "iopub.status.idle": "2022-04-17T02:46:54.242464Z",
     "shell.execute_reply": "2022-04-17T02:46:54.243224Z",
     "shell.execute_reply.started": "2022-04-17T02:46:05.633202Z"
    },
    "papermill": {
     "duration": 0.106065,
     "end_time": "2022-04-17T02:46:54.243464",
     "exception": false,
     "start_time": "2022-04-17T02:46:54.137399",
     "status": "completed"
    },
    "tags": []
   },
   "outputs": [],
   "source": [
    "df.replace({\n",
    "    \"sex\":{\"male\":0, \"female\":1},\n",
    "    \"embarked\":{\"C\":0, \"Q\":1, \"S\":2}\n",
    "}, inplace=True)"
   ]
  },
  {
   "cell_type": "code",
   "execution_count": 29,
   "id": "ee86bb6c",
   "metadata": {
    "execution": {
     "iopub.execute_input": "2022-04-17T02:46:54.435728Z",
     "iopub.status.busy": "2022-04-17T02:46:54.434677Z",
     "iopub.status.idle": "2022-04-17T02:46:54.447113Z",
     "shell.execute_reply": "2022-04-17T02:46:54.447746Z",
     "shell.execute_reply.started": "2022-04-17T02:46:05.646341Z"
    },
    "papermill": {
     "duration": 0.110889,
     "end_time": "2022-04-17T02:46:54.447951",
     "exception": false,
     "start_time": "2022-04-17T02:46:54.337062",
     "status": "completed"
    },
    "tags": []
   },
   "outputs": [
    {
     "data": {
      "text/html": [
       "<div>\n",
       "<style scoped>\n",
       "    .dataframe tbody tr th:only-of-type {\n",
       "        vertical-align: middle;\n",
       "    }\n",
       "\n",
       "    .dataframe tbody tr th {\n",
       "        vertical-align: top;\n",
       "    }\n",
       "\n",
       "    .dataframe thead th {\n",
       "        text-align: right;\n",
       "    }\n",
       "</style>\n",
       "<table border=\"1\" class=\"dataframe\">\n",
       "  <thead>\n",
       "    <tr style=\"text-align: right;\">\n",
       "      <th></th>\n",
       "      <th>survived</th>\n",
       "      <th>pclass</th>\n",
       "      <th>sex</th>\n",
       "      <th>age</th>\n",
       "      <th>embarked</th>\n",
       "    </tr>\n",
       "  </thead>\n",
       "  <tbody>\n",
       "    <tr>\n",
       "      <th>0</th>\n",
       "      <td>0</td>\n",
       "      <td>3</td>\n",
       "      <td>0</td>\n",
       "      <td>22.0</td>\n",
       "      <td>2</td>\n",
       "    </tr>\n",
       "    <tr>\n",
       "      <th>1</th>\n",
       "      <td>1</td>\n",
       "      <td>1</td>\n",
       "      <td>1</td>\n",
       "      <td>38.0</td>\n",
       "      <td>0</td>\n",
       "    </tr>\n",
       "    <tr>\n",
       "      <th>2</th>\n",
       "      <td>1</td>\n",
       "      <td>3</td>\n",
       "      <td>1</td>\n",
       "      <td>26.0</td>\n",
       "      <td>2</td>\n",
       "    </tr>\n",
       "    <tr>\n",
       "      <th>3</th>\n",
       "      <td>1</td>\n",
       "      <td>1</td>\n",
       "      <td>1</td>\n",
       "      <td>35.0</td>\n",
       "      <td>2</td>\n",
       "    </tr>\n",
       "    <tr>\n",
       "      <th>4</th>\n",
       "      <td>0</td>\n",
       "      <td>3</td>\n",
       "      <td>0</td>\n",
       "      <td>35.0</td>\n",
       "      <td>2</td>\n",
       "    </tr>\n",
       "  </tbody>\n",
       "</table>\n",
       "</div>"
      ],
      "text/plain": [
       "   survived  pclass  sex   age  embarked\n",
       "0         0       3    0  22.0         2\n",
       "1         1       1    1  38.0         0\n",
       "2         1       3    1  26.0         2\n",
       "3         1       1    1  35.0         2\n",
       "4         0       3    0  35.0         2"
      ]
     },
     "execution_count": 29,
     "metadata": {},
     "output_type": "execute_result"
    }
   ],
   "source": [
    "df.head()"
   ]
  },
  {
   "cell_type": "markdown",
   "id": "140fcd8a",
   "metadata": {
    "papermill": {
     "duration": 0.089265,
     "end_time": "2022-04-17T02:46:54.628063",
     "exception": false,
     "start_time": "2022-04-17T02:46:54.538798",
     "status": "completed"
    },
    "tags": []
   },
   "source": [
    "**Dependent variable Y and independent variable X**"
   ]
  },
  {
   "cell_type": "code",
   "execution_count": 30,
   "id": "e64893fa",
   "metadata": {
    "execution": {
     "iopub.execute_input": "2022-04-17T02:46:54.812185Z",
     "iopub.status.busy": "2022-04-17T02:46:54.811427Z",
     "iopub.status.idle": "2022-04-17T02:46:54.816626Z",
     "shell.execute_reply": "2022-04-17T02:46:54.817163Z",
     "shell.execute_reply.started": "2022-04-17T02:46:05.665847Z"
    },
    "papermill": {
     "duration": 0.100706,
     "end_time": "2022-04-17T02:46:54.817395",
     "exception": false,
     "start_time": "2022-04-17T02:46:54.716689",
     "status": "completed"
    },
    "tags": []
   },
   "outputs": [],
   "source": [
    "X = df.drop(columns=\"survived\", axis=1)\n",
    "Y= df[\"survived\"]"
   ]
  },
  {
   "cell_type": "code",
   "execution_count": 31,
   "id": "78afc277",
   "metadata": {
    "execution": {
     "iopub.execute_input": "2022-04-17T02:46:55.015141Z",
     "iopub.status.busy": "2022-04-17T02:46:55.014332Z",
     "iopub.status.idle": "2022-04-17T02:46:55.024273Z",
     "shell.execute_reply": "2022-04-17T02:46:55.024823Z",
     "shell.execute_reply.started": "2022-04-17T02:46:05.679732Z"
    },
    "papermill": {
     "duration": 0.113537,
     "end_time": "2022-04-17T02:46:55.025051",
     "exception": false,
     "start_time": "2022-04-17T02:46:54.911514",
     "status": "completed"
    },
    "tags": []
   },
   "outputs": [
    {
     "data": {
      "text/html": [
       "<div>\n",
       "<style scoped>\n",
       "    .dataframe tbody tr th:only-of-type {\n",
       "        vertical-align: middle;\n",
       "    }\n",
       "\n",
       "    .dataframe tbody tr th {\n",
       "        vertical-align: top;\n",
       "    }\n",
       "\n",
       "    .dataframe thead th {\n",
       "        text-align: right;\n",
       "    }\n",
       "</style>\n",
       "<table border=\"1\" class=\"dataframe\">\n",
       "  <thead>\n",
       "    <tr style=\"text-align: right;\">\n",
       "      <th></th>\n",
       "      <th>pclass</th>\n",
       "      <th>sex</th>\n",
       "      <th>age</th>\n",
       "      <th>embarked</th>\n",
       "    </tr>\n",
       "  </thead>\n",
       "  <tbody>\n",
       "    <tr>\n",
       "      <th>0</th>\n",
       "      <td>3</td>\n",
       "      <td>0</td>\n",
       "      <td>22.0</td>\n",
       "      <td>2</td>\n",
       "    </tr>\n",
       "    <tr>\n",
       "      <th>1</th>\n",
       "      <td>1</td>\n",
       "      <td>1</td>\n",
       "      <td>38.0</td>\n",
       "      <td>0</td>\n",
       "    </tr>\n",
       "    <tr>\n",
       "      <th>2</th>\n",
       "      <td>3</td>\n",
       "      <td>1</td>\n",
       "      <td>26.0</td>\n",
       "      <td>2</td>\n",
       "    </tr>\n",
       "    <tr>\n",
       "      <th>3</th>\n",
       "      <td>1</td>\n",
       "      <td>1</td>\n",
       "      <td>35.0</td>\n",
       "      <td>2</td>\n",
       "    </tr>\n",
       "    <tr>\n",
       "      <th>4</th>\n",
       "      <td>3</td>\n",
       "      <td>0</td>\n",
       "      <td>35.0</td>\n",
       "      <td>2</td>\n",
       "    </tr>\n",
       "  </tbody>\n",
       "</table>\n",
       "</div>"
      ],
      "text/plain": [
       "   pclass  sex   age  embarked\n",
       "0       3    0  22.0         2\n",
       "1       1    1  38.0         0\n",
       "2       3    1  26.0         2\n",
       "3       1    1  35.0         2\n",
       "4       3    0  35.0         2"
      ]
     },
     "execution_count": 31,
     "metadata": {},
     "output_type": "execute_result"
    }
   ],
   "source": [
    "X.head()"
   ]
  },
  {
   "cell_type": "code",
   "execution_count": 32,
   "id": "2f792e0c",
   "metadata": {
    "execution": {
     "iopub.execute_input": "2022-04-17T02:46:55.232456Z",
     "iopub.status.busy": "2022-04-17T02:46:55.231462Z",
     "iopub.status.idle": "2022-04-17T02:46:55.235093Z",
     "shell.execute_reply": "2022-04-17T02:46:55.235865Z",
     "shell.execute_reply.started": "2022-04-17T02:46:05.699159Z"
    },
    "papermill": {
     "duration": 0.111704,
     "end_time": "2022-04-17T02:46:55.236097",
     "exception": false,
     "start_time": "2022-04-17T02:46:55.124393",
     "status": "completed"
    },
    "tags": []
   },
   "outputs": [
    {
     "data": {
      "text/plain": [
       "0    0\n",
       "1    1\n",
       "2    1\n",
       "3    1\n",
       "4    0\n",
       "Name: survived, dtype: int64"
      ]
     },
     "execution_count": 32,
     "metadata": {},
     "output_type": "execute_result"
    }
   ],
   "source": [
    "Y.head()"
   ]
  },
  {
   "cell_type": "markdown",
   "id": "2d73abc7",
   "metadata": {
    "papermill": {
     "duration": 0.092954,
     "end_time": "2022-04-17T02:46:55.420916",
     "exception": false,
     "start_time": "2022-04-17T02:46:55.327962",
     "status": "completed"
    },
    "tags": []
   },
   "source": [
    "**Splitting data into train_test_split**"
   ]
  },
  {
   "cell_type": "code",
   "execution_count": 33,
   "id": "a309fda3",
   "metadata": {
    "execution": {
     "iopub.execute_input": "2022-04-17T02:46:55.619242Z",
     "iopub.status.busy": "2022-04-17T02:46:55.618435Z",
     "iopub.status.idle": "2022-04-17T02:46:55.621479Z",
     "shell.execute_reply": "2022-04-17T02:46:55.622068Z",
     "shell.execute_reply.started": "2022-04-17T02:46:05.718633Z"
    },
    "papermill": {
     "duration": 0.103791,
     "end_time": "2022-04-17T02:46:55.622327",
     "exception": false,
     "start_time": "2022-04-17T02:46:55.518536",
     "status": "completed"
    },
    "tags": []
   },
   "outputs": [],
   "source": [
    "X_train, X_test, Y_train, Y_test = train_test_split(X,Y, test_size=.20, random_state=40)"
   ]
  },
  {
   "cell_type": "code",
   "execution_count": 34,
   "id": "2996674f",
   "metadata": {
    "execution": {
     "iopub.execute_input": "2022-04-17T02:46:55.821010Z",
     "iopub.status.busy": "2022-04-17T02:46:55.819893Z",
     "iopub.status.idle": "2022-04-17T02:46:55.826826Z",
     "shell.execute_reply": "2022-04-17T02:46:55.827433Z",
     "shell.execute_reply.started": "2022-04-17T02:46:05.728524Z"
    },
    "papermill": {
     "duration": 0.104384,
     "end_time": "2022-04-17T02:46:55.827763",
     "exception": false,
     "start_time": "2022-04-17T02:46:55.723379",
     "status": "completed"
    },
    "tags": []
   },
   "outputs": [
    {
     "name": "stdout",
     "output_type": "stream",
     "text": [
      "(712, 4) (712,) (179, 4) (179,)\n"
     ]
    }
   ],
   "source": [
    "print(X_train.shape,Y_train.shape, X_test.shape, Y_test.shape)"
   ]
  },
  {
   "cell_type": "markdown",
   "id": "a49e7300",
   "metadata": {
    "papermill": {
     "duration": 0.090028,
     "end_time": "2022-04-17T02:46:56.010656",
     "exception": false,
     "start_time": "2022-04-17T02:46:55.920628",
     "status": "completed"
    },
    "tags": []
   },
   "source": [
    "**Find the model for the prediction using Logistic regression**"
   ]
  },
  {
   "cell_type": "code",
   "execution_count": 35,
   "id": "5ad1049a",
   "metadata": {
    "execution": {
     "iopub.execute_input": "2022-04-17T02:46:56.197952Z",
     "iopub.status.busy": "2022-04-17T02:46:56.197022Z",
     "iopub.status.idle": "2022-04-17T02:46:56.200047Z",
     "shell.execute_reply": "2022-04-17T02:46:56.199510Z",
     "shell.execute_reply.started": "2022-04-17T02:46:05.740814Z"
    },
    "papermill": {
     "duration": 0.097293,
     "end_time": "2022-04-17T02:46:56.200240",
     "exception": false,
     "start_time": "2022-04-17T02:46:56.102947",
     "status": "completed"
    },
    "tags": []
   },
   "outputs": [],
   "source": [
    "logReg = LogisticRegression()"
   ]
  },
  {
   "cell_type": "code",
   "execution_count": 36,
   "id": "0965dc10",
   "metadata": {
    "execution": {
     "iopub.execute_input": "2022-04-17T02:46:56.387465Z",
     "iopub.status.busy": "2022-04-17T02:46:56.386721Z",
     "iopub.status.idle": "2022-04-17T02:46:56.409855Z",
     "shell.execute_reply": "2022-04-17T02:46:56.409281Z",
     "shell.execute_reply.started": "2022-04-17T02:46:05.753985Z"
    },
    "papermill": {
     "duration": 0.120018,
     "end_time": "2022-04-17T02:46:56.410016",
     "exception": false,
     "start_time": "2022-04-17T02:46:56.289998",
     "status": "completed"
    },
    "tags": []
   },
   "outputs": [
    {
     "data": {
      "text/plain": [
       "LogisticRegression()"
      ]
     },
     "execution_count": 36,
     "metadata": {},
     "output_type": "execute_result"
    }
   ],
   "source": [
    "logReg.fit(X_train, Y_train)"
   ]
  },
  {
   "cell_type": "markdown",
   "id": "f4398e5d",
   "metadata": {
    "papermill": {
     "duration": 0.088668,
     "end_time": "2022-04-17T02:46:56.588180",
     "exception": false,
     "start_time": "2022-04-17T02:46:56.499512",
     "status": "completed"
    },
    "tags": []
   },
   "source": [
    "**Predict the X_train data which has already read the Y_train**"
   ]
  },
  {
   "cell_type": "code",
   "execution_count": 37,
   "id": "ee2647c2",
   "metadata": {
    "execution": {
     "iopub.execute_input": "2022-04-17T02:46:56.774773Z",
     "iopub.status.busy": "2022-04-17T02:46:56.773833Z",
     "iopub.status.idle": "2022-04-17T02:46:56.776445Z",
     "shell.execute_reply": "2022-04-17T02:46:56.777055Z",
     "shell.execute_reply.started": "2022-04-17T02:46:05.782178Z"
    },
    "papermill": {
     "duration": 0.099512,
     "end_time": "2022-04-17T02:46:56.777272",
     "exception": false,
     "start_time": "2022-04-17T02:46:56.677760",
     "status": "completed"
    },
    "tags": []
   },
   "outputs": [],
   "source": [
    "X_train_Predicted = logReg.predict(X_train)"
   ]
  },
  {
   "cell_type": "code",
   "execution_count": 38,
   "id": "44b978c0",
   "metadata": {
    "execution": {
     "iopub.execute_input": "2022-04-17T02:46:56.967921Z",
     "iopub.status.busy": "2022-04-17T02:46:56.963415Z",
     "iopub.status.idle": "2022-04-17T02:46:56.971979Z",
     "shell.execute_reply": "2022-04-17T02:46:56.971125Z",
     "shell.execute_reply.started": "2022-04-17T02:46:05.790756Z"
    },
    "papermill": {
     "duration": 0.103915,
     "end_time": "2022-04-17T02:46:56.972218",
     "exception": false,
     "start_time": "2022-04-17T02:46:56.868303",
     "status": "completed"
    },
    "tags": []
   },
   "outputs": [
    {
     "name": "stdout",
     "output_type": "stream",
     "text": [
      "[0 1 0 0 1 0 1 0 0 0 0 1 0 0 1 1 1 0 1 0 1 0 1 0 1 0 0 0 0 1 0 1 0 0 0 0 1\n",
      " 0 1 1 1 1 0 1 1 0 1 1 0 0 0 1 1 0 0 1 0 1 0 0 1 0 0 1 0 0 0 0 0 0 0 0 1 0\n",
      " 1 1 1 1 1 0 1 0 1 0 1 1 0 0 1 0 0 1 0 0 1 0 0 0 0 0 1 0 1 0 0 1 0 0 0 0 0\n",
      " 0 1 0 1 0 0 1 0 0 1 0 0 1 1 0 1 0 1 1 1 0 1 0 1 0 1 0 0 1 0 0 1 1 0 0 0 0\n",
      " 0 0 0 0 0 1 1 0 0 1 0 1 1 0 0 1 0 0 0 0 0 0 1 1 1 0 1 0 1 0 1 0 0 1 0 0 0\n",
      " 0 0 1 0 1 0 1 0 0 0 1 0 1 0 0 1 1 0 0 1 1 0 0 0 1 1 0 0 0 0 0 0 0 0 1 1 1\n",
      " 0 0 1 1 1 0 0 0 0 0 1 0 1 0 0 1 0 1 1 0 1 1 0 1 1 0 1 0 1 1 0 0 0 1 0 0 1\n",
      " 0 0 1 0 1 0 1 0 0 1 1 1 1 0 0 1 1 0 0 1 1 0 0 0 0 1 1 0 1 1 1 0 0 1 1 0 0\n",
      " 0 0 0 0 1 1 0 0 0 1 0 1 0 0 0 0 0 1 0 0 0 0 1 0 0 1 1 0 1 1 0 0 0 0 0 0 0\n",
      " 0 0 0 1 1 0 0 1 0 0 0 0 0 0 0 0 1 0 0 0 1 1 0 0 0 1 1 0 0 1 0 1 0 0 0 0 1\n",
      " 0 0 0 1 0 0 0 1 0 0 0 0 1 1 0 0 1 0 0 0 0 0 0 0 1 0 1 1 0 0 1 0 0 1 0 1 0\n",
      " 0 1 0 0 0 0 0 0 0 0 0 1 0 0 1 0 0 1 0 1 0 0 0 0 0 0 0 0 0 0 0 0 1 1 0 0 1\n",
      " 0 0 1 0 0 0 0 0 1 1 0 0 0 0 0 0 0 0 0 0 0 0 0 1 0 0 0 1 1 0 0 0 0 0 0 0 0\n",
      " 0 0 1 0 1 0 0 0 1 0 0 1 0 1 0 0 1 0 0 0 0 0 0 0 1 1 0 1 1 0 0 1 1 0 0 0 0\n",
      " 1 1 0 1 0 0 0 1 1 0 1 1 1 1 0 0 0 0 0 1 0 0 0 0 0 1 0 0 1 0 0 1 0 0 0 0 0\n",
      " 1 0 0 1 0 0 0 1 0 0 0 0 1 0 0 0 0 1 1 0 0 0 0 0 0 0 0 0 0 0 0 0 1 0 0 1 1\n",
      " 0 1 0 0 0 0 0 1 0 1 1 1 0 1 1 0 0 0 0 0 0 1 0 0 0 1 0 0 0 1 0 1 1 0 0 1 1\n",
      " 1 0 1 1 0 0 0 1 0 1 0 0 0 0 0 0 1 0 0 0 0 0 0 1 0 0 1 0 0 0 0 0 0 0 0 1 0\n",
      " 0 1 0 1 0 1 0 1 0 1 1 0 0 0 1 0 0 0 0 0 0 0 1 1 1 1 0 0 0 0 0 1 0 1 0 0 0\n",
      " 1 1 0 1 1 0 0 0 0]\n"
     ]
    }
   ],
   "source": [
    "print(X_train_Predicted)"
   ]
  },
  {
   "cell_type": "markdown",
   "id": "89ae07e4",
   "metadata": {
    "papermill": {
     "duration": 0.089267,
     "end_time": "2022-04-17T02:46:57.155575",
     "exception": false,
     "start_time": "2022-04-17T02:46:57.066308",
     "status": "completed"
    },
    "tags": []
   },
   "source": [
    "**Find the accuracy score for training data X_train**"
   ]
  },
  {
   "cell_type": "code",
   "execution_count": 39,
   "id": "afd28b95",
   "metadata": {
    "execution": {
     "iopub.execute_input": "2022-04-17T02:46:57.339718Z",
     "iopub.status.busy": "2022-04-17T02:46:57.339029Z",
     "iopub.status.idle": "2022-04-17T02:46:57.345079Z",
     "shell.execute_reply": "2022-04-17T02:46:57.344558Z",
     "shell.execute_reply.started": "2022-04-17T02:46:05.806900Z"
    },
    "papermill": {
     "duration": 0.098717,
     "end_time": "2022-04-17T02:46:57.345260",
     "exception": false,
     "start_time": "2022-04-17T02:46:57.246543",
     "status": "completed"
    },
    "tags": []
   },
   "outputs": [
    {
     "name": "stdout",
     "output_type": "stream",
     "text": [
      "Accuracy Score Of Training Data:: 0.797752808988764\n"
     ]
    }
   ],
   "source": [
    "X_train_accuracy = accuracy_score(Y_train, X_train_Predicted)\n",
    "print(\"Accuracy Score Of Training Data::\",X_train_accuracy)"
   ]
  },
  {
   "cell_type": "markdown",
   "id": "4aff79b1",
   "metadata": {
    "papermill": {
     "duration": 0.089638,
     "end_time": "2022-04-17T02:46:57.525027",
     "exception": false,
     "start_time": "2022-04-17T02:46:57.435389",
     "status": "completed"
    },
    "tags": []
   },
   "source": [
    "**Predict the X_test data**"
   ]
  },
  {
   "cell_type": "code",
   "execution_count": 40,
   "id": "6e15abdb",
   "metadata": {
    "execution": {
     "iopub.execute_input": "2022-04-17T02:46:57.708405Z",
     "iopub.status.busy": "2022-04-17T02:46:57.707650Z",
     "iopub.status.idle": "2022-04-17T02:46:57.714698Z",
     "shell.execute_reply": "2022-04-17T02:46:57.715288Z",
     "shell.execute_reply.started": "2022-04-17T02:46:05.818596Z"
    },
    "papermill": {
     "duration": 0.100323,
     "end_time": "2022-04-17T02:46:57.715548",
     "exception": false,
     "start_time": "2022-04-17T02:46:57.615225",
     "status": "completed"
    },
    "tags": []
   },
   "outputs": [
    {
     "name": "stdout",
     "output_type": "stream",
     "text": [
      "[1 0 1 1 1 0 0 0 0 1 1 0 0 0 0 1 1 1 0 0 0 1 1 1 1 1 0 0 0 0 1 0 0 0 0 1 0\n",
      " 0 0 1 0 0 0 1 1 0 0 0 0 0 1 0 1 1 0 0 0 1 1 0 0 0 0 1 0 0 1 1 0 1 1 1 0 0\n",
      " 0 0 0 1 0 1 1 1 1 0 1 1 0 1 1 1 0 1 0 0 0 1 0 0 0 1 0 0 1 0 1 0 0 1 0 0 0\n",
      " 0 0 0 0 0 1 0 0 1 0 0 1 1 1 1 0 0 1 1 1 1 1 0 0 0 1 0 0 1 0 0 1 0 0 1 0 0\n",
      " 1 0 0 0 1 1 0 0 1 0 1 0 0 0 0 0 0 1 1 0 0 0 1 0 0 1 0 1 0 0 1]\n"
     ]
    }
   ],
   "source": [
    "X_test_Predicted  = logReg.predict(X_test)\n",
    "print(X_test_Predicted)"
   ]
  },
  {
   "cell_type": "markdown",
   "id": "72f76acb",
   "metadata": {
    "papermill": {
     "duration": 0.093104,
     "end_time": "2022-04-17T02:46:57.903789",
     "exception": false,
     "start_time": "2022-04-17T02:46:57.810685",
     "status": "completed"
    },
    "tags": []
   },
   "source": [
    "**Accuracy Score for testing data**"
   ]
  },
  {
   "cell_type": "code",
   "execution_count": 41,
   "id": "fd0270fd",
   "metadata": {
    "execution": {
     "iopub.execute_input": "2022-04-17T02:46:58.089056Z",
     "iopub.status.busy": "2022-04-17T02:46:58.088376Z",
     "iopub.status.idle": "2022-04-17T02:46:58.093616Z",
     "shell.execute_reply": "2022-04-17T02:46:58.094242Z",
     "shell.execute_reply.started": "2022-04-17T02:46:05.830568Z"
    },
    "papermill": {
     "duration": 0.100182,
     "end_time": "2022-04-17T02:46:58.094445",
     "exception": false,
     "start_time": "2022-04-17T02:46:57.994263",
     "status": "completed"
    },
    "tags": []
   },
   "outputs": [
    {
     "name": "stdout",
     "output_type": "stream",
     "text": [
      "Accuracy Score Of Testing Data:: 0.8100558659217877\n"
     ]
    }
   ],
   "source": [
    "X_test_accuracy = accuracy_score(Y_test, X_test_Predicted)\n",
    "print(\"Accuracy Score Of Testing Data::\", X_test_accuracy)"
   ]
  },
  {
   "cell_type": "markdown",
   "id": "4727d466",
   "metadata": {
    "papermill": {
     "duration": 0.090984,
     "end_time": "2022-04-17T02:46:58.276507",
     "exception": false,
     "start_time": "2022-04-17T02:46:58.185523",
     "status": "completed"
    },
    "tags": []
   },
   "source": [
    "**Import test_df dataset**"
   ]
  },
  {
   "cell_type": "code",
   "execution_count": 42,
   "id": "057b5bb9",
   "metadata": {
    "execution": {
     "iopub.execute_input": "2022-04-17T02:46:58.461604Z",
     "iopub.status.busy": "2022-04-17T02:46:58.460917Z",
     "iopub.status.idle": "2022-04-17T02:46:58.474768Z",
     "shell.execute_reply": "2022-04-17T02:46:58.475342Z",
     "shell.execute_reply.started": "2022-04-17T02:46:05.841388Z"
    },
    "papermill": {
     "duration": 0.108176,
     "end_time": "2022-04-17T02:46:58.475552",
     "exception": false,
     "start_time": "2022-04-17T02:46:58.367376",
     "status": "completed"
    },
    "tags": []
   },
   "outputs": [],
   "source": [
    "test_df = pd.read_csv(r'../input/titanic/test.csv')"
   ]
  },
  {
   "cell_type": "code",
   "execution_count": 43,
   "id": "214ce58a",
   "metadata": {
    "execution": {
     "iopub.execute_input": "2022-04-17T02:46:58.660400Z",
     "iopub.status.busy": "2022-04-17T02:46:58.659743Z",
     "iopub.status.idle": "2022-04-17T02:46:58.674031Z",
     "shell.execute_reply": "2022-04-17T02:46:58.674567Z",
     "shell.execute_reply.started": "2022-04-17T02:46:05.858110Z"
    },
    "papermill": {
     "duration": 0.108133,
     "end_time": "2022-04-17T02:46:58.674767",
     "exception": false,
     "start_time": "2022-04-17T02:46:58.566634",
     "status": "completed"
    },
    "tags": []
   },
   "outputs": [
    {
     "data": {
      "text/html": [
       "<div>\n",
       "<style scoped>\n",
       "    .dataframe tbody tr th:only-of-type {\n",
       "        vertical-align: middle;\n",
       "    }\n",
       "\n",
       "    .dataframe tbody tr th {\n",
       "        vertical-align: top;\n",
       "    }\n",
       "\n",
       "    .dataframe thead th {\n",
       "        text-align: right;\n",
       "    }\n",
       "</style>\n",
       "<table border=\"1\" class=\"dataframe\">\n",
       "  <thead>\n",
       "    <tr style=\"text-align: right;\">\n",
       "      <th></th>\n",
       "      <th>PassengerId</th>\n",
       "      <th>Pclass</th>\n",
       "      <th>Name</th>\n",
       "      <th>Sex</th>\n",
       "      <th>Age</th>\n",
       "      <th>SibSp</th>\n",
       "      <th>Parch</th>\n",
       "      <th>Ticket</th>\n",
       "      <th>Fare</th>\n",
       "      <th>Cabin</th>\n",
       "      <th>Embarked</th>\n",
       "    </tr>\n",
       "  </thead>\n",
       "  <tbody>\n",
       "    <tr>\n",
       "      <th>0</th>\n",
       "      <td>892</td>\n",
       "      <td>3</td>\n",
       "      <td>Kelly, Mr. James</td>\n",
       "      <td>male</td>\n",
       "      <td>34.5</td>\n",
       "      <td>0</td>\n",
       "      <td>0</td>\n",
       "      <td>330911</td>\n",
       "      <td>7.8292</td>\n",
       "      <td>NaN</td>\n",
       "      <td>Q</td>\n",
       "    </tr>\n",
       "    <tr>\n",
       "      <th>1</th>\n",
       "      <td>893</td>\n",
       "      <td>3</td>\n",
       "      <td>Wilkes, Mrs. James (Ellen Needs)</td>\n",
       "      <td>female</td>\n",
       "      <td>47.0</td>\n",
       "      <td>1</td>\n",
       "      <td>0</td>\n",
       "      <td>363272</td>\n",
       "      <td>7.0000</td>\n",
       "      <td>NaN</td>\n",
       "      <td>S</td>\n",
       "    </tr>\n",
       "    <tr>\n",
       "      <th>2</th>\n",
       "      <td>894</td>\n",
       "      <td>2</td>\n",
       "      <td>Myles, Mr. Thomas Francis</td>\n",
       "      <td>male</td>\n",
       "      <td>62.0</td>\n",
       "      <td>0</td>\n",
       "      <td>0</td>\n",
       "      <td>240276</td>\n",
       "      <td>9.6875</td>\n",
       "      <td>NaN</td>\n",
       "      <td>Q</td>\n",
       "    </tr>\n",
       "    <tr>\n",
       "      <th>3</th>\n",
       "      <td>895</td>\n",
       "      <td>3</td>\n",
       "      <td>Wirz, Mr. Albert</td>\n",
       "      <td>male</td>\n",
       "      <td>27.0</td>\n",
       "      <td>0</td>\n",
       "      <td>0</td>\n",
       "      <td>315154</td>\n",
       "      <td>8.6625</td>\n",
       "      <td>NaN</td>\n",
       "      <td>S</td>\n",
       "    </tr>\n",
       "    <tr>\n",
       "      <th>4</th>\n",
       "      <td>896</td>\n",
       "      <td>3</td>\n",
       "      <td>Hirvonen, Mrs. Alexander (Helga E Lindqvist)</td>\n",
       "      <td>female</td>\n",
       "      <td>22.0</td>\n",
       "      <td>1</td>\n",
       "      <td>1</td>\n",
       "      <td>3101298</td>\n",
       "      <td>12.2875</td>\n",
       "      <td>NaN</td>\n",
       "      <td>S</td>\n",
       "    </tr>\n",
       "  </tbody>\n",
       "</table>\n",
       "</div>"
      ],
      "text/plain": [
       "   PassengerId  Pclass                                          Name     Sex  \\\n",
       "0          892       3                              Kelly, Mr. James    male   \n",
       "1          893       3              Wilkes, Mrs. James (Ellen Needs)  female   \n",
       "2          894       2                     Myles, Mr. Thomas Francis    male   \n",
       "3          895       3                              Wirz, Mr. Albert    male   \n",
       "4          896       3  Hirvonen, Mrs. Alexander (Helga E Lindqvist)  female   \n",
       "\n",
       "    Age  SibSp  Parch   Ticket     Fare Cabin Embarked  \n",
       "0  34.5      0      0   330911   7.8292   NaN        Q  \n",
       "1  47.0      1      0   363272   7.0000   NaN        S  \n",
       "2  62.0      0      0   240276   9.6875   NaN        Q  \n",
       "3  27.0      0      0   315154   8.6625   NaN        S  \n",
       "4  22.0      1      1  3101298  12.2875   NaN        S  "
      ]
     },
     "execution_count": 43,
     "metadata": {},
     "output_type": "execute_result"
    }
   ],
   "source": [
    "test_df.head()"
   ]
  },
  {
   "cell_type": "code",
   "execution_count": 44,
   "id": "f69f5cf5",
   "metadata": {
    "execution": {
     "iopub.execute_input": "2022-04-17T02:46:58.862016Z",
     "iopub.status.busy": "2022-04-17T02:46:58.861357Z",
     "iopub.status.idle": "2022-04-17T02:46:58.876046Z",
     "shell.execute_reply": "2022-04-17T02:46:58.876645Z",
     "shell.execute_reply.started": "2022-04-17T02:46:05.877013Z"
    },
    "papermill": {
     "duration": 0.110285,
     "end_time": "2022-04-17T02:46:58.876842",
     "exception": false,
     "start_time": "2022-04-17T02:46:58.766557",
     "status": "completed"
    },
    "tags": []
   },
   "outputs": [
    {
     "data": {
      "text/html": [
       "<div>\n",
       "<style scoped>\n",
       "    .dataframe tbody tr th:only-of-type {\n",
       "        vertical-align: middle;\n",
       "    }\n",
       "\n",
       "    .dataframe tbody tr th {\n",
       "        vertical-align: top;\n",
       "    }\n",
       "\n",
       "    .dataframe thead th {\n",
       "        text-align: right;\n",
       "    }\n",
       "</style>\n",
       "<table border=\"1\" class=\"dataframe\">\n",
       "  <thead>\n",
       "    <tr style=\"text-align: right;\">\n",
       "      <th></th>\n",
       "      <th>PassengerId</th>\n",
       "      <th>Pclass</th>\n",
       "      <th>Name</th>\n",
       "      <th>Sex</th>\n",
       "      <th>Age</th>\n",
       "      <th>SibSp</th>\n",
       "      <th>Parch</th>\n",
       "      <th>Ticket</th>\n",
       "      <th>Fare</th>\n",
       "      <th>Cabin</th>\n",
       "      <th>Embarked</th>\n",
       "    </tr>\n",
       "  </thead>\n",
       "  <tbody>\n",
       "    <tr>\n",
       "      <th>413</th>\n",
       "      <td>1305</td>\n",
       "      <td>3</td>\n",
       "      <td>Spector, Mr. Woolf</td>\n",
       "      <td>male</td>\n",
       "      <td>NaN</td>\n",
       "      <td>0</td>\n",
       "      <td>0</td>\n",
       "      <td>A.5. 3236</td>\n",
       "      <td>8.0500</td>\n",
       "      <td>NaN</td>\n",
       "      <td>S</td>\n",
       "    </tr>\n",
       "    <tr>\n",
       "      <th>414</th>\n",
       "      <td>1306</td>\n",
       "      <td>1</td>\n",
       "      <td>Oliva y Ocana, Dona. Fermina</td>\n",
       "      <td>female</td>\n",
       "      <td>39.0</td>\n",
       "      <td>0</td>\n",
       "      <td>0</td>\n",
       "      <td>PC 17758</td>\n",
       "      <td>108.9000</td>\n",
       "      <td>C105</td>\n",
       "      <td>C</td>\n",
       "    </tr>\n",
       "    <tr>\n",
       "      <th>415</th>\n",
       "      <td>1307</td>\n",
       "      <td>3</td>\n",
       "      <td>Saether, Mr. Simon Sivertsen</td>\n",
       "      <td>male</td>\n",
       "      <td>38.5</td>\n",
       "      <td>0</td>\n",
       "      <td>0</td>\n",
       "      <td>SOTON/O.Q. 3101262</td>\n",
       "      <td>7.2500</td>\n",
       "      <td>NaN</td>\n",
       "      <td>S</td>\n",
       "    </tr>\n",
       "    <tr>\n",
       "      <th>416</th>\n",
       "      <td>1308</td>\n",
       "      <td>3</td>\n",
       "      <td>Ware, Mr. Frederick</td>\n",
       "      <td>male</td>\n",
       "      <td>NaN</td>\n",
       "      <td>0</td>\n",
       "      <td>0</td>\n",
       "      <td>359309</td>\n",
       "      <td>8.0500</td>\n",
       "      <td>NaN</td>\n",
       "      <td>S</td>\n",
       "    </tr>\n",
       "    <tr>\n",
       "      <th>417</th>\n",
       "      <td>1309</td>\n",
       "      <td>3</td>\n",
       "      <td>Peter, Master. Michael J</td>\n",
       "      <td>male</td>\n",
       "      <td>NaN</td>\n",
       "      <td>1</td>\n",
       "      <td>1</td>\n",
       "      <td>2668</td>\n",
       "      <td>22.3583</td>\n",
       "      <td>NaN</td>\n",
       "      <td>C</td>\n",
       "    </tr>\n",
       "  </tbody>\n",
       "</table>\n",
       "</div>"
      ],
      "text/plain": [
       "     PassengerId  Pclass                          Name     Sex   Age  SibSp  \\\n",
       "413         1305       3            Spector, Mr. Woolf    male   NaN      0   \n",
       "414         1306       1  Oliva y Ocana, Dona. Fermina  female  39.0      0   \n",
       "415         1307       3  Saether, Mr. Simon Sivertsen    male  38.5      0   \n",
       "416         1308       3           Ware, Mr. Frederick    male   NaN      0   \n",
       "417         1309       3      Peter, Master. Michael J    male   NaN      1   \n",
       "\n",
       "     Parch              Ticket      Fare Cabin Embarked  \n",
       "413      0           A.5. 3236    8.0500   NaN        S  \n",
       "414      0            PC 17758  108.9000  C105        C  \n",
       "415      0  SOTON/O.Q. 3101262    7.2500   NaN        S  \n",
       "416      0              359309    8.0500   NaN        S  \n",
       "417      1                2668   22.3583   NaN        C  "
      ]
     },
     "execution_count": 44,
     "metadata": {},
     "output_type": "execute_result"
    }
   ],
   "source": [
    "test_df.tail()"
   ]
  },
  {
   "cell_type": "code",
   "execution_count": 45,
   "id": "d91b1ab7",
   "metadata": {
    "execution": {
     "iopub.execute_input": "2022-04-17T02:46:59.069374Z",
     "iopub.status.busy": "2022-04-17T02:46:59.068602Z",
     "iopub.status.idle": "2022-04-17T02:46:59.072314Z",
     "shell.execute_reply": "2022-04-17T02:46:59.072867Z",
     "shell.execute_reply.started": "2022-04-17T02:46:05.902476Z"
    },
    "papermill": {
     "duration": 0.102409,
     "end_time": "2022-04-17T02:46:59.073070",
     "exception": false,
     "start_time": "2022-04-17T02:46:58.970661",
     "status": "completed"
    },
    "tags": []
   },
   "outputs": [],
   "source": [
    "test_df.columns  = test_df.columns.str.lower()"
   ]
  },
  {
   "cell_type": "code",
   "execution_count": 46,
   "id": "f016294b",
   "metadata": {
    "execution": {
     "iopub.execute_input": "2022-04-17T02:46:59.262987Z",
     "iopub.status.busy": "2022-04-17T02:46:59.262279Z",
     "iopub.status.idle": "2022-04-17T02:46:59.271273Z",
     "shell.execute_reply": "2022-04-17T02:46:59.271833Z",
     "shell.execute_reply.started": "2022-04-17T02:46:05.908843Z"
    },
    "papermill": {
     "duration": 0.105385,
     "end_time": "2022-04-17T02:46:59.272041",
     "exception": false,
     "start_time": "2022-04-17T02:46:59.166656",
     "status": "completed"
    },
    "tags": []
   },
   "outputs": [
    {
     "data": {
      "text/plain": [
       "passengerid      0\n",
       "pclass           0\n",
       "name             0\n",
       "sex              0\n",
       "age             86\n",
       "sibsp            0\n",
       "parch            0\n",
       "ticket           0\n",
       "fare             1\n",
       "cabin          327\n",
       "embarked         0\n",
       "dtype: int64"
      ]
     },
     "execution_count": 46,
     "metadata": {},
     "output_type": "execute_result"
    }
   ],
   "source": [
    "test_df.isna().sum()"
   ]
  },
  {
   "cell_type": "code",
   "execution_count": 47,
   "id": "5c2d3605",
   "metadata": {
    "execution": {
     "iopub.execute_input": "2022-04-17T02:46:59.462933Z",
     "iopub.status.busy": "2022-04-17T02:46:59.461862Z",
     "iopub.status.idle": "2022-04-17T02:46:59.467333Z",
     "shell.execute_reply": "2022-04-17T02:46:59.467811Z",
     "shell.execute_reply.started": "2022-04-17T02:46:05.925599Z"
    },
    "papermill": {
     "duration": 0.102585,
     "end_time": "2022-04-17T02:46:59.468025",
     "exception": false,
     "start_time": "2022-04-17T02:46:59.365440",
     "status": "completed"
    },
    "tags": []
   },
   "outputs": [],
   "source": [
    "# if we call above \"nullPercent\" function then it will drop \"age\" column.\n",
    "# logReg model has 4 feature after dopping \"age\" model will have 3 which gives an error.\n",
    "# \"age\" column has more than 20% null still find the mean and get 1 required column for model.\n",
    "test_df[\"age\"].fillna(value=test_df[\"age\"].mean(), inplace=True)"
   ]
  },
  {
   "cell_type": "code",
   "execution_count": 48,
   "id": "53a1ffe6",
   "metadata": {
    "execution": {
     "iopub.execute_input": "2022-04-17T02:46:59.663360Z",
     "iopub.status.busy": "2022-04-17T02:46:59.662518Z",
     "iopub.status.idle": "2022-04-17T02:46:59.697425Z",
     "shell.execute_reply": "2022-04-17T02:46:59.696733Z",
     "shell.execute_reply.started": "2022-04-17T02:46:05.933653Z"
    },
    "papermill": {
     "duration": 0.136649,
     "end_time": "2022-04-17T02:46:59.697586",
     "exception": false,
     "start_time": "2022-04-17T02:46:59.560937",
     "status": "completed"
    },
    "tags": []
   },
   "outputs": [
    {
     "name": "stdout",
     "output_type": "stream",
     "text": [
      "Dropped Column cabin has 78.23% null percent.\n"
     ]
    },
    {
     "data": {
      "text/html": [
       "<div>\n",
       "<style scoped>\n",
       "    .dataframe tbody tr th:only-of-type {\n",
       "        vertical-align: middle;\n",
       "    }\n",
       "\n",
       "    .dataframe tbody tr th {\n",
       "        vertical-align: top;\n",
       "    }\n",
       "\n",
       "    .dataframe thead th {\n",
       "        text-align: right;\n",
       "    }\n",
       "</style>\n",
       "<table border=\"1\" class=\"dataframe\">\n",
       "  <thead>\n",
       "    <tr style=\"text-align: right;\">\n",
       "      <th></th>\n",
       "      <th>passengerid</th>\n",
       "      <th>pclass</th>\n",
       "      <th>name</th>\n",
       "      <th>sex</th>\n",
       "      <th>age</th>\n",
       "      <th>sibsp</th>\n",
       "      <th>parch</th>\n",
       "      <th>ticket</th>\n",
       "      <th>fare</th>\n",
       "      <th>embarked</th>\n",
       "    </tr>\n",
       "  </thead>\n",
       "  <tbody>\n",
       "    <tr>\n",
       "      <th>0</th>\n",
       "      <td>892</td>\n",
       "      <td>3</td>\n",
       "      <td>Kelly, Mr. James</td>\n",
       "      <td>male</td>\n",
       "      <td>34.5</td>\n",
       "      <td>0</td>\n",
       "      <td>0</td>\n",
       "      <td>330911</td>\n",
       "      <td>7.8292</td>\n",
       "      <td>Q</td>\n",
       "    </tr>\n",
       "  </tbody>\n",
       "</table>\n",
       "</div>"
      ],
      "text/plain": [
       "   passengerid  pclass              name   sex   age  sibsp  parch  ticket  \\\n",
       "0          892       3  Kelly, Mr. James  male  34.5      0      0  330911   \n",
       "\n",
       "     fare embarked  \n",
       "0  7.8292        Q  "
      ]
     },
     "execution_count": 48,
     "metadata": {},
     "output_type": "execute_result"
    }
   ],
   "source": [
    "# new dataframe has created as \"df2\"\n",
    "dropping_column_list = []\n",
    "df2 = nullPercent(test_df, dropping_column_list)\n",
    "df2.head(1)"
   ]
  },
  {
   "cell_type": "code",
   "execution_count": 49,
   "id": "f593cb75",
   "metadata": {
    "execution": {
     "iopub.execute_input": "2022-04-17T02:46:59.888772Z",
     "iopub.status.busy": "2022-04-17T02:46:59.887754Z",
     "iopub.status.idle": "2022-04-17T02:46:59.894589Z",
     "shell.execute_reply": "2022-04-17T02:46:59.895247Z",
     "shell.execute_reply.started": "2022-04-17T02:46:05.979877Z"
    },
    "papermill": {
     "duration": 0.10476,
     "end_time": "2022-04-17T02:46:59.895458",
     "exception": false,
     "start_time": "2022-04-17T02:46:59.790698",
     "status": "completed"
    },
    "tags": []
   },
   "outputs": [
    {
     "data": {
      "text/plain": [
       "Index(['passengerid', 'pclass', 'name', 'sex', 'age', 'sibsp', 'parch',\n",
       "       'ticket', 'fare', 'embarked'],\n",
       "      dtype='object')"
      ]
     },
     "execution_count": 49,
     "metadata": {},
     "output_type": "execute_result"
    }
   ],
   "source": [
    "df2.columns"
   ]
  },
  {
   "cell_type": "code",
   "execution_count": 50,
   "id": "2ab85be1",
   "metadata": {
    "execution": {
     "iopub.execute_input": "2022-04-17T02:47:00.091533Z",
     "iopub.status.busy": "2022-04-17T02:47:00.090489Z",
     "iopub.status.idle": "2022-04-17T02:47:00.096097Z",
     "shell.execute_reply": "2022-04-17T02:47:00.096723Z",
     "shell.execute_reply.started": "2022-04-17T02:46:05.988211Z"
    },
    "papermill": {
     "duration": 0.107402,
     "end_time": "2022-04-17T02:47:00.096923",
     "exception": false,
     "start_time": "2022-04-17T02:46:59.989521",
     "status": "completed"
    },
    "tags": []
   },
   "outputs": [],
   "source": [
    "df2  = df2.drop(columns=[\"passengerid\", \"name\", \"sibsp\", \"parch\", \"ticket\", \"fare\"])"
   ]
  },
  {
   "cell_type": "code",
   "execution_count": 51,
   "id": "622267ef",
   "metadata": {
    "execution": {
     "iopub.execute_input": "2022-04-17T02:47:00.292922Z",
     "iopub.status.busy": "2022-04-17T02:47:00.292259Z",
     "iopub.status.idle": "2022-04-17T02:47:00.300119Z",
     "shell.execute_reply": "2022-04-17T02:47:00.300651Z",
     "shell.execute_reply.started": "2022-04-17T02:46:06.000325Z"
    },
    "papermill": {
     "duration": 0.109229,
     "end_time": "2022-04-17T02:47:00.300849",
     "exception": false,
     "start_time": "2022-04-17T02:47:00.191620",
     "status": "completed"
    },
    "tags": []
   },
   "outputs": [
    {
     "data": {
      "text/plain": [
       "pclass      0\n",
       "sex         0\n",
       "age         0\n",
       "embarked    0\n",
       "dtype: int64"
      ]
     },
     "execution_count": 51,
     "metadata": {},
     "output_type": "execute_result"
    }
   ],
   "source": [
    "df2.isna().sum()"
   ]
  },
  {
   "cell_type": "code",
   "execution_count": 52,
   "id": "490980b4",
   "metadata": {
    "execution": {
     "iopub.execute_input": "2022-04-17T02:47:00.494852Z",
     "iopub.status.busy": "2022-04-17T02:47:00.492070Z",
     "iopub.status.idle": "2022-04-17T02:47:00.500559Z",
     "shell.execute_reply": "2022-04-17T02:47:00.501032Z",
     "shell.execute_reply.started": "2022-04-17T02:46:06.016702Z"
    },
    "papermill": {
     "duration": 0.106718,
     "end_time": "2022-04-17T02:47:00.501270",
     "exception": false,
     "start_time": "2022-04-17T02:47:00.394552",
     "status": "completed"
    },
    "tags": []
   },
   "outputs": [],
   "source": [
    "df2.replace({\n",
    "    \"sex\":{\"male\":0, \"female\":1},\n",
    "    \"embarked\":{\"C\":0, \"Q\":1, \"S\":2}\n",
    "}, inplace=True)"
   ]
  },
  {
   "cell_type": "code",
   "execution_count": 53,
   "id": "237c3ab2",
   "metadata": {
    "execution": {
     "iopub.execute_input": "2022-04-17T02:47:00.696306Z",
     "iopub.status.busy": "2022-04-17T02:47:00.695606Z",
     "iopub.status.idle": "2022-04-17T02:47:00.704453Z",
     "shell.execute_reply": "2022-04-17T02:47:00.704924Z",
     "shell.execute_reply.started": "2022-04-17T02:46:06.030469Z"
    },
    "papermill": {
     "duration": 0.107266,
     "end_time": "2022-04-17T02:47:00.705128",
     "exception": false,
     "start_time": "2022-04-17T02:47:00.597862",
     "status": "completed"
    },
    "tags": []
   },
   "outputs": [
    {
     "data": {
      "text/html": [
       "<div>\n",
       "<style scoped>\n",
       "    .dataframe tbody tr th:only-of-type {\n",
       "        vertical-align: middle;\n",
       "    }\n",
       "\n",
       "    .dataframe tbody tr th {\n",
       "        vertical-align: top;\n",
       "    }\n",
       "\n",
       "    .dataframe thead th {\n",
       "        text-align: right;\n",
       "    }\n",
       "</style>\n",
       "<table border=\"1\" class=\"dataframe\">\n",
       "  <thead>\n",
       "    <tr style=\"text-align: right;\">\n",
       "      <th></th>\n",
       "      <th>pclass</th>\n",
       "      <th>sex</th>\n",
       "      <th>age</th>\n",
       "      <th>embarked</th>\n",
       "    </tr>\n",
       "  </thead>\n",
       "  <tbody>\n",
       "    <tr>\n",
       "      <th>0</th>\n",
       "      <td>3</td>\n",
       "      <td>0</td>\n",
       "      <td>34.5</td>\n",
       "      <td>1</td>\n",
       "    </tr>\n",
       "    <tr>\n",
       "      <th>1</th>\n",
       "      <td>3</td>\n",
       "      <td>1</td>\n",
       "      <td>47.0</td>\n",
       "      <td>2</td>\n",
       "    </tr>\n",
       "    <tr>\n",
       "      <th>2</th>\n",
       "      <td>2</td>\n",
       "      <td>0</td>\n",
       "      <td>62.0</td>\n",
       "      <td>1</td>\n",
       "    </tr>\n",
       "    <tr>\n",
       "      <th>3</th>\n",
       "      <td>3</td>\n",
       "      <td>0</td>\n",
       "      <td>27.0</td>\n",
       "      <td>2</td>\n",
       "    </tr>\n",
       "    <tr>\n",
       "      <th>4</th>\n",
       "      <td>3</td>\n",
       "      <td>1</td>\n",
       "      <td>22.0</td>\n",
       "      <td>2</td>\n",
       "    </tr>\n",
       "  </tbody>\n",
       "</table>\n",
       "</div>"
      ],
      "text/plain": [
       "   pclass  sex   age  embarked\n",
       "0       3    0  34.5         1\n",
       "1       3    1  47.0         2\n",
       "2       2    0  62.0         1\n",
       "3       3    0  27.0         2\n",
       "4       3    1  22.0         2"
      ]
     },
     "execution_count": 53,
     "metadata": {},
     "output_type": "execute_result"
    }
   ],
   "source": [
    "df2.head()"
   ]
  },
  {
   "cell_type": "code",
   "execution_count": 54,
   "id": "3a50e81e",
   "metadata": {
    "execution": {
     "iopub.execute_input": "2022-04-17T02:47:00.902237Z",
     "iopub.status.busy": "2022-04-17T02:47:00.901526Z",
     "iopub.status.idle": "2022-04-17T02:47:00.911039Z",
     "shell.execute_reply": "2022-04-17T02:47:00.911589Z",
     "shell.execute_reply.started": "2022-04-17T02:46:06.043639Z"
    },
    "papermill": {
     "duration": 0.107914,
     "end_time": "2022-04-17T02:47:00.911804",
     "exception": false,
     "start_time": "2022-04-17T02:47:00.803890",
     "status": "completed"
    },
    "tags": []
   },
   "outputs": [],
   "source": [
    "# import gender_submission for \"Survival\" columns for test_df\n",
    "df2_Y = pd.read_csv(r'../input/titanic/gender_submission.csv')"
   ]
  },
  {
   "cell_type": "code",
   "execution_count": 55,
   "id": "3ae341c5",
   "metadata": {
    "execution": {
     "iopub.execute_input": "2022-04-17T02:47:01.103872Z",
     "iopub.status.busy": "2022-04-17T02:47:01.102850Z",
     "iopub.status.idle": "2022-04-17T02:47:01.107306Z",
     "shell.execute_reply": "2022-04-17T02:47:01.107917Z",
     "shell.execute_reply.started": "2022-04-17T02:46:06.055217Z"
    },
    "papermill": {
     "duration": 0.101707,
     "end_time": "2022-04-17T02:47:01.108094",
     "exception": false,
     "start_time": "2022-04-17T02:47:01.006387",
     "status": "completed"
    },
    "tags": []
   },
   "outputs": [],
   "source": [
    "df2_Y.columns = df2_Y.columns.str.lower()"
   ]
  },
  {
   "cell_type": "code",
   "execution_count": 56,
   "id": "06064f0f",
   "metadata": {
    "execution": {
     "iopub.execute_input": "2022-04-17T02:47:01.299595Z",
     "iopub.status.busy": "2022-04-17T02:47:01.298849Z",
     "iopub.status.idle": "2022-04-17T02:47:01.303902Z",
     "shell.execute_reply": "2022-04-17T02:47:01.304515Z",
     "shell.execute_reply.started": "2022-04-17T02:46:06.063597Z"
    },
    "papermill": {
     "duration": 0.103194,
     "end_time": "2022-04-17T02:47:01.304691",
     "exception": false,
     "start_time": "2022-04-17T02:47:01.201497",
     "status": "completed"
    },
    "tags": []
   },
   "outputs": [],
   "source": [
    "df2_Y.drop(labels='passengerid', axis=1, inplace=True)"
   ]
  },
  {
   "cell_type": "code",
   "execution_count": 57,
   "id": "63f409ea",
   "metadata": {
    "execution": {
     "iopub.execute_input": "2022-04-17T02:47:01.498618Z",
     "iopub.status.busy": "2022-04-17T02:47:01.497901Z",
     "iopub.status.idle": "2022-04-17T02:47:01.508981Z",
     "shell.execute_reply": "2022-04-17T02:47:01.509552Z",
     "shell.execute_reply.started": "2022-04-17T02:46:06.073944Z"
    },
    "papermill": {
     "duration": 0.108993,
     "end_time": "2022-04-17T02:47:01.509728",
     "exception": false,
     "start_time": "2022-04-17T02:47:01.400735",
     "status": "completed"
    },
    "tags": []
   },
   "outputs": [
    {
     "data": {
      "text/html": [
       "<div>\n",
       "<style scoped>\n",
       "    .dataframe tbody tr th:only-of-type {\n",
       "        vertical-align: middle;\n",
       "    }\n",
       "\n",
       "    .dataframe tbody tr th {\n",
       "        vertical-align: top;\n",
       "    }\n",
       "\n",
       "    .dataframe thead th {\n",
       "        text-align: right;\n",
       "    }\n",
       "</style>\n",
       "<table border=\"1\" class=\"dataframe\">\n",
       "  <thead>\n",
       "    <tr style=\"text-align: right;\">\n",
       "      <th></th>\n",
       "      <th>survived</th>\n",
       "    </tr>\n",
       "  </thead>\n",
       "  <tbody>\n",
       "    <tr>\n",
       "      <th>0</th>\n",
       "      <td>0</td>\n",
       "    </tr>\n",
       "    <tr>\n",
       "      <th>1</th>\n",
       "      <td>1</td>\n",
       "    </tr>\n",
       "    <tr>\n",
       "      <th>2</th>\n",
       "      <td>0</td>\n",
       "    </tr>\n",
       "    <tr>\n",
       "      <th>3</th>\n",
       "      <td>0</td>\n",
       "    </tr>\n",
       "    <tr>\n",
       "      <th>4</th>\n",
       "      <td>1</td>\n",
       "    </tr>\n",
       "    <tr>\n",
       "      <th>...</th>\n",
       "      <td>...</td>\n",
       "    </tr>\n",
       "    <tr>\n",
       "      <th>413</th>\n",
       "      <td>0</td>\n",
       "    </tr>\n",
       "    <tr>\n",
       "      <th>414</th>\n",
       "      <td>1</td>\n",
       "    </tr>\n",
       "    <tr>\n",
       "      <th>415</th>\n",
       "      <td>0</td>\n",
       "    </tr>\n",
       "    <tr>\n",
       "      <th>416</th>\n",
       "      <td>0</td>\n",
       "    </tr>\n",
       "    <tr>\n",
       "      <th>417</th>\n",
       "      <td>0</td>\n",
       "    </tr>\n",
       "  </tbody>\n",
       "</table>\n",
       "<p>418 rows × 1 columns</p>\n",
       "</div>"
      ],
      "text/plain": [
       "     survived\n",
       "0           0\n",
       "1           1\n",
       "2           0\n",
       "3           0\n",
       "4           1\n",
       "..        ...\n",
       "413         0\n",
       "414         1\n",
       "415         0\n",
       "416         0\n",
       "417         0\n",
       "\n",
       "[418 rows x 1 columns]"
      ]
     },
     "execution_count": 57,
     "metadata": {},
     "output_type": "execute_result"
    }
   ],
   "source": [
    "df2_Y"
   ]
  },
  {
   "cell_type": "code",
   "execution_count": 58,
   "id": "e0387679",
   "metadata": {
    "execution": {
     "iopub.execute_input": "2022-04-17T02:47:01.706540Z",
     "iopub.status.busy": "2022-04-17T02:47:01.705836Z",
     "iopub.status.idle": "2022-04-17T02:47:01.709425Z",
     "shell.execute_reply": "2022-04-17T02:47:01.708902Z",
     "shell.execute_reply.started": "2022-04-17T02:46:06.089333Z"
    },
    "papermill": {
     "duration": 0.10425,
     "end_time": "2022-04-17T02:47:01.709569",
     "exception": false,
     "start_time": "2022-04-17T02:47:01.605319",
     "status": "completed"
    },
    "tags": []
   },
   "outputs": [
    {
     "data": {
      "text/plain": [
       "(418, 4)"
      ]
     },
     "execution_count": 58,
     "metadata": {},
     "output_type": "execute_result"
    }
   ],
   "source": [
    "# df2 has more values compared to Y_test\n",
    "df2.shape"
   ]
  },
  {
   "cell_type": "code",
   "execution_count": 59,
   "id": "46d22750",
   "metadata": {
    "execution": {
     "iopub.execute_input": "2022-04-17T02:47:01.908059Z",
     "iopub.status.busy": "2022-04-17T02:47:01.907385Z",
     "iopub.status.idle": "2022-04-17T02:47:01.910023Z",
     "shell.execute_reply": "2022-04-17T02:47:01.910531Z",
     "shell.execute_reply.started": "2022-04-17T02:46:06.097165Z"
    },
    "papermill": {
     "duration": 0.105312,
     "end_time": "2022-04-17T02:47:01.910706",
     "exception": false,
     "start_time": "2022-04-17T02:47:01.805394",
     "status": "completed"
    },
    "tags": []
   },
   "outputs": [],
   "source": [
    "# train and test the data in previous model\n",
    "df2_predicted = logReg.predict(df2)"
   ]
  },
  {
   "cell_type": "code",
   "execution_count": 60,
   "id": "8635290d",
   "metadata": {
    "execution": {
     "iopub.execute_input": "2022-04-17T02:47:02.106269Z",
     "iopub.status.busy": "2022-04-17T02:47:02.105571Z",
     "iopub.status.idle": "2022-04-17T02:47:02.112005Z",
     "shell.execute_reply": "2022-04-17T02:47:02.112516Z",
     "shell.execute_reply.started": "2022-04-17T02:46:06.109639Z"
    },
    "papermill": {
     "duration": 0.105893,
     "end_time": "2022-04-17T02:47:02.112690",
     "exception": false,
     "start_time": "2022-04-17T02:47:02.006797",
     "status": "completed"
    },
    "tags": []
   },
   "outputs": [
    {
     "data": {
      "text/plain": [
       "array([0, 0, 0, 0, 1, 0, 1, 0, 1, 0, 0, 0, 1, 0, 1, 1, 0, 0, 1, 1, 0, 0,\n",
       "       1, 1, 1, 0, 1, 0, 0, 0, 0, 0, 0, 0, 1, 0, 0, 1, 0, 0, 0, 0, 0, 1,\n",
       "       1, 0, 0, 0, 1, 0, 0, 0, 1, 1, 0, 0, 0, 0, 0, 1, 0, 0, 0, 1, 1, 1,\n",
       "       1, 0, 1, 1, 1, 0, 1, 1, 1, 1, 0, 1, 0, 1, 0, 0, 0, 0, 0, 0, 1, 1,\n",
       "       1, 0, 1, 0, 1, 0, 1, 0, 1, 0, 1, 0, 1, 0, 0, 0, 1, 0, 0, 0, 0, 0,\n",
       "       0, 1, 1, 1, 1, 0, 0, 1, 1, 1, 1, 0, 1, 0, 0, 1, 0, 1, 0, 0, 0, 0,\n",
       "       0, 0, 0, 0, 0, 0, 1, 0, 1, 1, 0, 0, 0, 0, 0, 0, 0, 0, 1, 0, 0, 0,\n",
       "       0, 0, 1, 1, 0, 1, 1, 0, 1, 0, 0, 1, 0, 0, 1, 1, 0, 0, 0, 0, 0, 1,\n",
       "       1, 0, 1, 1, 0, 1, 1, 0, 1, 0, 1, 0, 0, 0, 0, 0, 0, 0, 0, 0, 1, 1,\n",
       "       0, 0, 1, 0, 0, 1, 0, 1, 1, 0, 1, 0, 0, 0, 0, 1, 0, 0, 1, 0, 1, 0,\n",
       "       1, 0, 1, 0, 1, 1, 0, 1, 0, 0, 0, 1, 0, 0, 1, 0, 0, 0, 1, 1, 1, 1,\n",
       "       0, 0, 0, 0, 1, 0, 1, 1, 1, 0, 1, 0, 0, 0, 0, 0, 1, 0, 0, 0, 1, 1,\n",
       "       0, 0, 0, 0, 0, 0, 0, 0, 1, 1, 0, 1, 0, 0, 0, 0, 1, 0, 1, 1, 1, 0,\n",
       "       0, 0, 0, 0, 0, 1, 0, 0, 0, 0, 1, 0, 0, 0, 0, 0, 0, 0, 1, 1, 0, 0,\n",
       "       0, 0, 0, 0, 0, 1, 1, 1, 0, 0, 0, 0, 0, 0, 0, 0, 1, 0, 1, 0, 0, 0,\n",
       "       1, 1, 0, 1, 0, 0, 0, 0, 0, 0, 0, 0, 0, 1, 0, 1, 0, 1, 0, 1, 1, 0,\n",
       "       0, 0, 1, 0, 1, 0, 0, 0, 0, 1, 1, 0, 1, 0, 0, 1, 1, 0, 0, 1, 0, 0,\n",
       "       1, 1, 1, 0, 0, 0, 0, 0, 0, 1, 0, 1, 0, 0, 0, 0, 0, 1, 0, 0, 0, 1,\n",
       "       0, 1, 0, 0, 1, 0, 1, 1, 0, 0, 0, 0, 1, 1, 1, 1, 1, 0, 1, 0, 0, 0])"
      ]
     },
     "execution_count": 60,
     "metadata": {},
     "output_type": "execute_result"
    }
   ],
   "source": [
    "df2_predicted"
   ]
  },
  {
   "cell_type": "code",
   "execution_count": 61,
   "id": "c4b2e51c",
   "metadata": {
    "execution": {
     "iopub.execute_input": "2022-04-17T02:47:02.311032Z",
     "iopub.status.busy": "2022-04-17T02:47:02.310345Z",
     "iopub.status.idle": "2022-04-17T02:47:02.315381Z",
     "shell.execute_reply": "2022-04-17T02:47:02.315936Z",
     "shell.execute_reply.started": "2022-04-17T02:46:06.121509Z"
    },
    "papermill": {
     "duration": 0.105905,
     "end_time": "2022-04-17T02:47:02.316127",
     "exception": false,
     "start_time": "2022-04-17T02:47:02.210222",
     "status": "completed"
    },
    "tags": []
   },
   "outputs": [
    {
     "name": "stdout",
     "output_type": "stream",
     "text": [
      "Accuracy Score Of df2 Data:: 0.9282296650717703\n"
     ]
    }
   ],
   "source": [
    "# find the accuracy_score\n",
    "df2_accuracy = accuracy_score(df2_Y, df2_predicted)\n",
    "print(\"Accuracy Score Of df2 Data::\", df2_accuracy)"
   ]
  },
  {
   "cell_type": "code",
   "execution_count": 62,
   "id": "cd7d7f5f",
   "metadata": {
    "execution": {
     "iopub.execute_input": "2022-04-17T02:47:02.514794Z",
     "iopub.status.busy": "2022-04-17T02:47:02.513970Z",
     "iopub.status.idle": "2022-04-17T02:47:02.518429Z",
     "shell.execute_reply": "2022-04-17T02:47:02.519017Z",
     "shell.execute_reply.started": "2022-04-17T02:46:06.132861Z"
    },
    "papermill": {
     "duration": 0.105027,
     "end_time": "2022-04-17T02:47:02.519243",
     "exception": false,
     "start_time": "2022-04-17T02:47:02.414216",
     "status": "completed"
    },
    "tags": []
   },
   "outputs": [
    {
     "data": {
      "text/plain": [
       "0"
      ]
     },
     "execution_count": 62,
     "metadata": {},
     "output_type": "execute_result"
    }
   ],
   "source": [
    "df2_predicted[3]"
   ]
  },
  {
   "cell_type": "code",
   "execution_count": 63,
   "id": "bea8d54c",
   "metadata": {
    "execution": {
     "iopub.execute_input": "2022-04-17T02:47:02.718490Z",
     "iopub.status.busy": "2022-04-17T02:47:02.717737Z",
     "iopub.status.idle": "2022-04-17T02:47:02.724372Z",
     "shell.execute_reply": "2022-04-17T02:47:02.724924Z",
     "shell.execute_reply.started": "2022-04-17T02:46:06.143482Z"
    },
    "papermill": {
     "duration": 0.107916,
     "end_time": "2022-04-17T02:47:02.725136",
     "exception": false,
     "start_time": "2022-04-17T02:47:02.617220",
     "status": "completed"
    },
    "tags": []
   },
   "outputs": [
    {
     "data": {
      "text/plain": [
       "survived    0\n",
       "Name: 3, dtype: int64"
      ]
     },
     "execution_count": 63,
     "metadata": {},
     "output_type": "execute_result"
    }
   ],
   "source": [
    "df2_Y.iloc[3,:]"
   ]
  },
  {
   "cell_type": "code",
   "execution_count": 64,
   "id": "c7078098",
   "metadata": {
    "execution": {
     "iopub.execute_input": "2022-04-17T02:47:02.930802Z",
     "iopub.status.busy": "2022-04-17T02:47:02.930001Z",
     "iopub.status.idle": "2022-04-17T02:47:02.938331Z",
     "shell.execute_reply": "2022-04-17T02:47:02.938890Z",
     "shell.execute_reply.started": "2022-04-17T02:46:06.157192Z"
    },
    "papermill": {
     "duration": 0.113949,
     "end_time": "2022-04-17T02:47:02.939089",
     "exception": false,
     "start_time": "2022-04-17T02:47:02.825140",
     "status": "completed"
    },
    "tags": []
   },
   "outputs": [
    {
     "data": {
      "text/html": [
       "<div>\n",
       "<style scoped>\n",
       "    .dataframe tbody tr th:only-of-type {\n",
       "        vertical-align: middle;\n",
       "    }\n",
       "\n",
       "    .dataframe tbody tr th {\n",
       "        vertical-align: top;\n",
       "    }\n",
       "\n",
       "    .dataframe thead th {\n",
       "        text-align: right;\n",
       "    }\n",
       "</style>\n",
       "<table border=\"1\" class=\"dataframe\">\n",
       "  <thead>\n",
       "    <tr style=\"text-align: right;\">\n",
       "      <th></th>\n",
       "      <th>PassengerId</th>\n",
       "      <th>Survived</th>\n",
       "    </tr>\n",
       "  </thead>\n",
       "  <tbody>\n",
       "    <tr>\n",
       "      <th>0</th>\n",
       "      <td>892</td>\n",
       "      <td>0</td>\n",
       "    </tr>\n",
       "    <tr>\n",
       "      <th>1</th>\n",
       "      <td>893</td>\n",
       "      <td>1</td>\n",
       "    </tr>\n",
       "    <tr>\n",
       "      <th>2</th>\n",
       "      <td>894</td>\n",
       "      <td>0</td>\n",
       "    </tr>\n",
       "    <tr>\n",
       "      <th>3</th>\n",
       "      <td>895</td>\n",
       "      <td>0</td>\n",
       "    </tr>\n",
       "    <tr>\n",
       "      <th>4</th>\n",
       "      <td>896</td>\n",
       "      <td>1</td>\n",
       "    </tr>\n",
       "  </tbody>\n",
       "</table>\n",
       "</div>"
      ],
      "text/plain": [
       "   PassengerId  Survived\n",
       "0          892         0\n",
       "1          893         1\n",
       "2          894         0\n",
       "3          895         0\n",
       "4          896         1"
      ]
     },
     "execution_count": 64,
     "metadata": {},
     "output_type": "execute_result"
    }
   ],
   "source": [
    "# submission\n",
    "submission = pd.read_csv('../input/titanic/gender_submission.csv')\n",
    "submission.head()"
   ]
  },
  {
   "cell_type": "code",
   "execution_count": 65,
   "id": "4f1db2fe",
   "metadata": {
    "execution": {
     "iopub.execute_input": "2022-04-17T02:47:03.144070Z",
     "iopub.status.busy": "2022-04-17T02:47:03.143330Z",
     "iopub.status.idle": "2022-04-17T02:47:03.145842Z",
     "shell.execute_reply": "2022-04-17T02:47:03.145332Z",
     "shell.execute_reply.started": "2022-04-17T02:46:06.175115Z"
    },
    "papermill": {
     "duration": 0.107274,
     "end_time": "2022-04-17T02:47:03.146004",
     "exception": false,
     "start_time": "2022-04-17T02:47:03.038730",
     "status": "completed"
    },
    "tags": []
   },
   "outputs": [],
   "source": [
    "submission[\"Survived\"] = df2_predicted"
   ]
  },
  {
   "cell_type": "code",
   "execution_count": 66,
   "id": "63538de4",
   "metadata": {
    "execution": {
     "iopub.execute_input": "2022-04-17T02:47:03.352569Z",
     "iopub.status.busy": "2022-04-17T02:47:03.351861Z",
     "iopub.status.idle": "2022-04-17T02:47:03.354731Z",
     "shell.execute_reply": "2022-04-17T02:47:03.355247Z",
     "shell.execute_reply.started": "2022-04-17T02:46:06.180344Z"
    },
    "papermill": {
     "duration": 0.111425,
     "end_time": "2022-04-17T02:47:03.355446",
     "exception": false,
     "start_time": "2022-04-17T02:47:03.244021",
     "status": "completed"
    },
    "tags": []
   },
   "outputs": [
    {
     "data": {
      "text/html": [
       "<div>\n",
       "<style scoped>\n",
       "    .dataframe tbody tr th:only-of-type {\n",
       "        vertical-align: middle;\n",
       "    }\n",
       "\n",
       "    .dataframe tbody tr th {\n",
       "        vertical-align: top;\n",
       "    }\n",
       "\n",
       "    .dataframe thead th {\n",
       "        text-align: right;\n",
       "    }\n",
       "</style>\n",
       "<table border=\"1\" class=\"dataframe\">\n",
       "  <thead>\n",
       "    <tr style=\"text-align: right;\">\n",
       "      <th></th>\n",
       "      <th>PassengerId</th>\n",
       "      <th>Survived</th>\n",
       "    </tr>\n",
       "  </thead>\n",
       "  <tbody>\n",
       "    <tr>\n",
       "      <th>0</th>\n",
       "      <td>892</td>\n",
       "      <td>0</td>\n",
       "    </tr>\n",
       "    <tr>\n",
       "      <th>1</th>\n",
       "      <td>893</td>\n",
       "      <td>0</td>\n",
       "    </tr>\n",
       "    <tr>\n",
       "      <th>2</th>\n",
       "      <td>894</td>\n",
       "      <td>0</td>\n",
       "    </tr>\n",
       "    <tr>\n",
       "      <th>3</th>\n",
       "      <td>895</td>\n",
       "      <td>0</td>\n",
       "    </tr>\n",
       "    <tr>\n",
       "      <th>4</th>\n",
       "      <td>896</td>\n",
       "      <td>1</td>\n",
       "    </tr>\n",
       "  </tbody>\n",
       "</table>\n",
       "</div>"
      ],
      "text/plain": [
       "   PassengerId  Survived\n",
       "0          892         0\n",
       "1          893         0\n",
       "2          894         0\n",
       "3          895         0\n",
       "4          896         1"
      ]
     },
     "execution_count": 66,
     "metadata": {},
     "output_type": "execute_result"
    }
   ],
   "source": [
    "submission.head()"
   ]
  },
  {
   "cell_type": "code",
   "execution_count": 67,
   "id": "b9a2475f",
   "metadata": {
    "execution": {
     "iopub.execute_input": "2022-04-17T02:47:03.557331Z",
     "iopub.status.busy": "2022-04-17T02:47:03.555990Z",
     "iopub.status.idle": "2022-04-17T02:47:03.562856Z",
     "shell.execute_reply": "2022-04-17T02:47:03.563562Z",
     "shell.execute_reply.started": "2022-04-17T02:46:06.195363Z"
    },
    "papermill": {
     "duration": 0.11018,
     "end_time": "2022-04-17T02:47:03.563786",
     "exception": false,
     "start_time": "2022-04-17T02:47:03.453606",
     "status": "completed"
    },
    "tags": []
   },
   "outputs": [],
   "source": [
    "submission.to_csv('submission.csv', index=False)"
   ]
  },
  {
   "cell_type": "code",
   "execution_count": null,
   "id": "48ac9929",
   "metadata": {
    "papermill": {
     "duration": 0.099793,
     "end_time": "2022-04-17T02:47:03.763365",
     "exception": false,
     "start_time": "2022-04-17T02:47:03.663572",
     "status": "completed"
    },
    "tags": []
   },
   "outputs": [],
   "source": []
  }
 ],
 "metadata": {
  "kernelspec": {
   "display_name": "Python 3",
   "language": "python",
   "name": "python3"
  },
  "language_info": {
   "codemirror_mode": {
    "name": "ipython",
    "version": 3
   },
   "file_extension": ".py",
   "mimetype": "text/x-python",
   "name": "python",
   "nbconvert_exporter": "python",
   "pygments_lexer": "ipython3",
   "version": "3.7.12"
  },
  "papermill": {
   "default_parameters": {},
   "duration": 30.62821,
   "end_time": "2022-04-17T02:47:04.874562",
   "environment_variables": {},
   "exception": null,
   "input_path": "__notebook__.ipynb",
   "output_path": "__notebook__.ipynb",
   "parameters": {},
   "start_time": "2022-04-17T02:46:34.246352",
   "version": "2.3.3"
  }
 },
 "nbformat": 4,
 "nbformat_minor": 5
}
